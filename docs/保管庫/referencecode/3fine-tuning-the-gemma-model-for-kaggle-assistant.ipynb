{
 "cells": [
  {
   "cell_type": "markdown",
   "id": "e13b11bd",
   "metadata": {
    "id": "SDEExiAk4fLb",
    "papermill": {
     "duration": 0.014208,
     "end_time": "2024-04-03T20:49:02.917163",
     "exception": false,
     "start_time": "2024-04-03T20:49:02.902955",
     "status": "completed"
    },
    "tags": []
   },
   "source": [
    "##### "
   ]
  },
  {
   "cell_type": "markdown",
   "id": "311b75c3",
   "metadata": {
    "id": "ZFWzQEqNosrS",
    "papermill": {
     "duration": 0.01432,
     "end_time": "2024-04-03T20:49:02.946032",
     "exception": false,
     "start_time": "2024-04-03T20:49:02.931712",
     "status": "completed"
    },
    "tags": []
   },
   "source": [
    "# 🧐 Fine-tuning the Gemma model for Kaggle Assistant \n",
    "\n",
    "#### Overview\n",
    "\n",
    "**🏆 Competition:** [Google – AI Assistants for Data Tasks with Gemma](https://www.kaggle.com/competitions/data-assistants-with-gemma)\n",
    "\n",
    "**🎯 Goal:** Build tools to assist Kaggle developers based on Gemma model.\n",
    "\n",
    "**📝 Task:** Answer common questions about the Kaggle platform.\n",
    "\n",
    "**📊 Dataset:** Especially for the competition, we collected all the data in question and answer format from Stackoverflow for the keyword \"Kaggle\". Stackexchange v2.3 API was used, link: https://api.stackexchange.com/\n",
    "\n",
    "> Kaggle Dataset: https://www.kaggle.com/datasets/armanzhalgasbayev/full-kaggle-qna-from-stackoverflow\n",
    "\n",
    "> Data Parsing Source Code: https://www.kaggle.com/code/armanzhalgasbayev/kaggle-stackoverflow-parser/notebook\n",
    "\n",
    "> Additional Dataset for Python Knowledge: https://www.kaggle.com/datasets/mpwolke/mbppjsonl \n",
    "\n",
    "> Additional Dataset for Data Science Knowledge:\n",
    "https://www.kaggle.com/datasets/nvnikhil0001/data-science-questions-and-answers\n",
    "\n",
    "The basic idea is that to be an expert in Kaggle, you need to be an expert in Data Science and Python as well. Strong Kaggle Assistant = Kaggle Expertise + Python Best Practices + Data Science Domain Knowledge.\n",
    "\n",
    "**🔍 Research Paper on ResearchGate:** https://www.researchgate.net/publication/378856921_Fine-tuning_the_Gemma_model_for_Kaggle_Assistant\n",
    "\n",
    "### `Kaggle Assistant = Kaggle + Python + Data Science` \n",
    "\n",
    "**🛢️ Model:**\n",
    "\n",
    "#### What is Gemma? \n",
    "\n",
    "*Gemma means precious stone in Latin.*\n",
    "\n",
    "**Gemma** is a family of lightweight, state-of-the-art open models built from the same research and technology used to create the Gemini models by Google DeepMind, released in 21st of February. Gemma has 2 variants with different weights: Gemma 2B and Gemma 7B (nB denotes the range of the parameters). \n",
    "\n",
    "(Banks, J. & Warkentin, T. | Google | Source: [Google Blog](https://blog.google/technology/developers/gemma-open-models/))\n",
    "\n",
    "> *In this notebook we will fine-tune Gemma 2B model, because our goal is to make lightweight powerful Kaggle Assistant.*"
   ]
  },
  {
   "cell_type": "markdown",
   "id": "75229ce3",
   "metadata": {
    "papermill": {
     "duration": 0.014198,
     "end_time": "2024-04-03T20:49:02.974811",
     "exception": false,
     "start_time": "2024-04-03T20:49:02.960613",
     "status": "completed"
    },
    "tags": []
   },
   "source": [
    "# 0. Official Competition Overview"
   ]
  },
  {
   "cell_type": "code",
   "execution_count": 1,
   "id": "1a736afd",
   "metadata": {
    "execution": {
     "iopub.execute_input": "2024-04-03T20:49:03.005631Z",
     "iopub.status.busy": "2024-04-03T20:49:03.005295Z",
     "iopub.status.idle": "2024-04-03T20:49:03.025391Z",
     "shell.execute_reply": "2024-04-03T20:49:03.024471Z"
    },
    "papermill": {
     "duration": 0.037196,
     "end_time": "2024-04-03T20:49:03.027431",
     "exception": false,
     "start_time": "2024-04-03T20:49:02.990235",
     "status": "completed"
    },
    "tags": []
   },
   "outputs": [
    {
     "data": {
      "text/markdown": [
       "# Competition Overview\n",
       "\n",
       "**The goal of this competition is to create notebooks that demonstrate how to use the Gemma LLM to accomplish one or more of the following developer-oriented tasks**:\n",
       "- Answer common questions about the Kaggle platform. \n",
       "- Explain or teach basic data science concepts.\n",
       "- Summarize Kaggle Solution write ups.\n",
       "- Explain or teach concepts from Kaggle Solution write ups.\n",
       "- Answer common questions about the Python programming language.\n",
       "\n",
       "\n",
       "Submissions to this competition take the form of Kaggle Notebooks. Your notebook should demonstrate how to use the Gemma model to complete the task that you have selected. \n",
       "\n",
       "**How can Gemma be used to assist Kaggle developers? Show us your ideas today!**\n"
      ],
      "text/plain": [
       "<IPython.core.display.Markdown object>"
      ]
     },
     "metadata": {},
     "output_type": "display_data"
    }
   ],
   "source": [
    "from IPython.display import Markdown, display\n",
    "f = open(\"/kaggle/input/data-assistants-with-gemma/submission_categories.txt\", \"r\")\n",
    "display(Markdown(f.read()))"
   ]
  },
  {
   "cell_type": "markdown",
   "id": "1cdd8d98",
   "metadata": {
    "id": "m4enlpwvIu-3",
    "papermill": {
     "duration": 0.013646,
     "end_time": "2024-04-03T20:49:03.055774",
     "exception": false,
     "start_time": "2024-04-03T20:49:03.042128",
     "status": "completed"
    },
    "tags": []
   },
   "source": [
    "# 1. Setup dependencies\n",
    "\n",
    "In the initial phase, we install all the necessary modules and dependencies. "
   ]
  },
  {
   "cell_type": "code",
   "execution_count": 2,
   "id": "5de20073",
   "metadata": {
    "execution": {
     "iopub.execute_input": "2024-04-03T20:49:03.085590Z",
     "iopub.status.busy": "2024-04-03T20:49:03.085217Z",
     "iopub.status.idle": "2024-04-03T20:49:03.090042Z",
     "shell.execute_reply": "2024-04-03T20:49:03.089005Z"
    },
    "papermill": {
     "duration": 0.022201,
     "end_time": "2024-04-03T20:49:03.092245",
     "exception": false,
     "start_time": "2024-04-03T20:49:03.070044",
     "status": "completed"
    },
    "tags": []
   },
   "outputs": [],
   "source": [
    "# Ignore warning to produce less noise from code\n",
    "import warnings\n",
    "warnings.filterwarnings('ignore')"
   ]
  },
  {
   "cell_type": "code",
   "execution_count": 3,
   "id": "6353a11f",
   "metadata": {
    "execution": {
     "iopub.execute_input": "2024-04-03T20:49:03.122981Z",
     "iopub.status.busy": "2024-04-03T20:49:03.122633Z",
     "iopub.status.idle": "2024-04-03T20:49:36.177933Z",
     "shell.execute_reply": "2024-04-03T20:49:36.176655Z"
    },
    "id": "1eeBtYqJsZPG",
    "outputId": "d0645149-4fe7-4304-81dd-cb18354cd7c9",
    "papermill": {
     "duration": 33.073261,
     "end_time": "2024-04-03T20:49:36.180502",
     "exception": false,
     "start_time": "2024-04-03T20:49:03.107241",
     "status": "completed"
    },
    "tags": []
   },
   "outputs": [
    {
     "name": "stdout",
     "output_type": "stream",
     "text": [
      "\u001b[31mERROR: pip's dependency resolver does not currently take into account all the packages that are installed. This behaviour is the source of the following dependency conflicts.\r\n",
      "tensorflow-decision-forests 1.8.1 requires wurlitzer, which is not installed.\u001b[0m\u001b[31m\r\n",
      "\u001b[0m\u001b[31mERROR: pip's dependency resolver does not currently take into account all the packages that are installed. This behaviour is the source of the following dependency conflicts.\r\n",
      "tensorflow-decision-forests 1.8.1 requires wurlitzer, which is not installed.\r\n",
      "tensorflow 2.15.0 requires keras<2.16,>=2.15.0, but you have keras 3.1.1 which is incompatible.\u001b[0m\u001b[31m\r\n",
      "\u001b[0m"
     ]
    }
   ],
   "source": [
    "# Install Keras, KerasNLP, and other dependencies.\n",
    "!pip install -q -U keras-nlp\n",
    "!pip install -q -U keras>=3"
   ]
  },
  {
   "cell_type": "code",
   "execution_count": 4,
   "id": "30d05773",
   "metadata": {
    "execution": {
     "iopub.execute_input": "2024-04-03T20:49:36.212730Z",
     "iopub.status.busy": "2024-04-03T20:49:36.212361Z",
     "iopub.status.idle": "2024-04-03T20:49:50.773652Z",
     "shell.execute_reply": "2024-04-03T20:49:50.771977Z"
    },
    "id": "yn5uy8X8sdD0",
    "papermill": {
     "duration": 14.580664,
     "end_time": "2024-04-03T20:49:50.776281",
     "exception": false,
     "start_time": "2024-04-03T20:49:36.195617",
     "status": "completed"
    },
    "tags": []
   },
   "outputs": [
    {
     "name": "stderr",
     "output_type": "stream",
     "text": [
      "2024-04-03 20:49:38.869104: E external/local_xla/xla/stream_executor/cuda/cuda_dnn.cc:9261] Unable to register cuDNN factory: Attempting to register factory for plugin cuDNN when one has already been registered\n",
      "2024-04-03 20:49:38.869211: E external/local_xla/xla/stream_executor/cuda/cuda_fft.cc:607] Unable to register cuFFT factory: Attempting to register factory for plugin cuFFT when one has already been registered\n",
      "2024-04-03 20:49:39.010037: E external/local_xla/xla/stream_executor/cuda/cuda_blas.cc:1515] Unable to register cuBLAS factory: Attempting to register factory for plugin cuBLAS when one has already been registered\n"
     ]
    }
   ],
   "source": [
    "# General modules\n",
    "import numpy as np # linear algebra\n",
    "import pandas as pd # data processing, CSV file I/O (e.g. pd.read_csv)\n",
    "import re\n",
    "import time\n",
    "import json\n",
    "\n",
    "# Data Visualization\n",
    "import matplotlib.pyplot as plt\n",
    "%matplotlib inline\n",
    "\n",
    "# keras for deep learning models\n",
    "import keras\n",
    "\n",
    "# keras_nlp for NLP-related functionalities\n",
    "import keras_nlp\n",
    "\n",
    "import os\n",
    "# for dirname, _, filenames in os.walk('/kaggle/input'):\n",
    "#     for filename in filenames:\n",
    "#         print(os.path.join(dirname, filename))\n",
    "\n",
    "# Set up Keras backend to JAX\n",
    "os.environ[\"KERAS_BACKEND\"] = \"jax\"\n",
    "\n",
    "# Avoid memory fragmentation on JAX backend by setting memory fraction to 1.00\n",
    "os.environ[\"XLA_PYTHON_CLIENT_MEM_FRACTION\"]=\"1.00\" "
   ]
  },
  {
   "cell_type": "markdown",
   "id": "cd72bf56",
   "metadata": {
    "id": "9T7xe_jzslv4",
    "papermill": {
     "duration": 0.014423,
     "end_time": "2024-04-03T20:49:50.811761",
     "exception": false,
     "start_time": "2024-04-03T20:49:50.797338",
     "status": "completed"
    },
    "tags": []
   },
   "source": [
    "# 2. Load Dataset\n",
    "\n",
    "In the data loading phase, we load, preprocess and format our datasets into 1 common well-formatted dataframe. "
   ]
  },
  {
   "cell_type": "code",
   "execution_count": 5,
   "id": "71e29697",
   "metadata": {
    "execution": {
     "iopub.execute_input": "2024-04-03T20:49:50.841542Z",
     "iopub.status.busy": "2024-04-03T20:49:50.840931Z",
     "iopub.status.idle": "2024-04-03T20:49:50.860828Z",
     "shell.execute_reply": "2024-04-03T20:49:50.859810Z"
    },
    "id": "ZiS-KU9osh_N",
    "papermill": {
     "duration": 0.036664,
     "end_time": "2024-04-03T20:49:50.862745",
     "exception": false,
     "start_time": "2024-04-03T20:49:50.826081",
     "status": "completed"
    },
    "tags": []
   },
   "outputs": [
    {
     "name": "stdout",
     "output_type": "stream",
     "text": [
      "{'question': 'Create a set from a series in pandas', 'answer': \"If you only need to get list of unique values, you can just use unique method.\\nIf you want to have Python's set, then do set(some_series)\\nIn [1]: s = pd.Series([1, 2, 3, 1, 1, 4])\\n\\nIn [2]: s.unique()\\nOut[2]: array([1, 2, 3, 4])\\n\\nIn [3]: set(s)\\nOut[3]: {1, 2, 3, 4}\\n\\nHowever, if you have DataFrame, just select series out of it ( some_data_frame['<col_name>'] ).\\n\"}\n"
     ]
    }
   ],
   "source": [
    "# Loading & Preprocessing Kaggle Dataset\n",
    "with open('/kaggle/input/full-kaggle-qna-from-stackoverflow/kaggle_data.json','r') as f:\n",
    "    kaggle_data = json.load(f)\n",
    "print(kaggle_data[0])"
   ]
  },
  {
   "cell_type": "code",
   "execution_count": 6,
   "id": "99906ae3",
   "metadata": {
    "execution": {
     "iopub.execute_input": "2024-04-03T20:49:50.891987Z",
     "iopub.status.busy": "2024-04-03T20:49:50.891704Z",
     "iopub.status.idle": "2024-04-03T20:49:50.911486Z",
     "shell.execute_reply": "2024-04-03T20:49:50.910636Z"
    },
    "papermill": {
     "duration": 0.036999,
     "end_time": "2024-04-03T20:49:50.913795",
     "exception": false,
     "start_time": "2024-04-03T20:49:50.876796",
     "status": "completed"
    },
    "tags": []
   },
   "outputs": [
    {
     "data": {
      "text/html": [
       "<div>\n",
       "<style scoped>\n",
       "    .dataframe tbody tr th:only-of-type {\n",
       "        vertical-align: middle;\n",
       "    }\n",
       "\n",
       "    .dataframe tbody tr th {\n",
       "        vertical-align: top;\n",
       "    }\n",
       "\n",
       "    .dataframe thead th {\n",
       "        text-align: right;\n",
       "    }\n",
       "</style>\n",
       "<table border=\"1\" class=\"dataframe\">\n",
       "  <thead>\n",
       "    <tr style=\"text-align: right;\">\n",
       "      <th></th>\n",
       "      <th>question</th>\n",
       "      <th>answer</th>\n",
       "    </tr>\n",
       "  </thead>\n",
       "  <tbody>\n",
       "    <tr>\n",
       "      <th>163</th>\n",
       "      <td>How to load just one chosen file of a way too ...</td>\n",
       "      <td>You could write a script that downloads only c...</td>\n",
       "    </tr>\n",
       "    <tr>\n",
       "      <th>231</th>\n",
       "      <td>Pandas &amp;#39;read_csv&amp;#39; giving an error, in ...</td>\n",
       "      <td>Write:\\nimport matplotlib.pyplot as plt\\n\\nBy ...</td>\n",
       "    </tr>\n",
       "    <tr>\n",
       "      <th>85</th>\n",
       "      <td>What does &amp;quot;The indices parameter is depre...</td>\n",
       "      <td>It means that where you use the indices keywor...</td>\n",
       "    </tr>\n",
       "    <tr>\n",
       "      <th>198</th>\n",
       "      <td>trainer.train() in Kaggle: StdinNotImplemented...</td>\n",
       "      <td>You may want to try adding report_to=\"tensorbo...</td>\n",
       "    </tr>\n",
       "    <tr>\n",
       "      <th>774</th>\n",
       "      <td>Get dataset cover image from kaggle using pyth...</td>\n",
       "      <td>This code uses selenium to get the source of t...</td>\n",
       "    </tr>\n",
       "  </tbody>\n",
       "</table>\n",
       "</div>"
      ],
      "text/plain": [
       "                                              question  \\\n",
       "163  How to load just one chosen file of a way too ...   \n",
       "231  Pandas &#39;read_csv&#39; giving an error, in ...   \n",
       "85   What does &quot;The indices parameter is depre...   \n",
       "198  trainer.train() in Kaggle: StdinNotImplemented...   \n",
       "774  Get dataset cover image from kaggle using pyth...   \n",
       "\n",
       "                                                answer  \n",
       "163  You could write a script that downloads only c...  \n",
       "231  Write:\\nimport matplotlib.pyplot as plt\\n\\nBy ...  \n",
       "85   It means that where you use the indices keywor...  \n",
       "198  You may want to try adding report_to=\"tensorbo...  \n",
       "774  This code uses selenium to get the source of t...  "
      ]
     },
     "execution_count": 6,
     "metadata": {},
     "output_type": "execute_result"
    }
   ],
   "source": [
    "kaggle_df = pd.DataFrame(kaggle_data)\n",
    "kaggle_df.sample(5)"
   ]
  },
  {
   "cell_type": "code",
   "execution_count": 7,
   "id": "0ee729d2",
   "metadata": {
    "execution": {
     "iopub.execute_input": "2024-04-03T20:49:50.945292Z",
     "iopub.status.busy": "2024-04-03T20:49:50.944937Z",
     "iopub.status.idle": "2024-04-03T20:49:50.967441Z",
     "shell.execute_reply": "2024-04-03T20:49:50.966424Z"
    },
    "papermill": {
     "duration": 0.04096,
     "end_time": "2024-04-03T20:49:50.969855",
     "exception": false,
     "start_time": "2024-04-03T20:49:50.928895",
     "status": "completed"
    },
    "tags": []
   },
   "outputs": [
    {
     "name": "stdout",
     "output_type": "stream",
     "text": [
      "<class 'pandas.core.frame.DataFrame'>\n",
      "RangeIndex: 821 entries, 0 to 820\n",
      "Data columns (total 2 columns):\n",
      " #   Column    Non-Null Count  Dtype \n",
      "---  ------    --------------  ----- \n",
      " 0   question  821 non-null    object\n",
      " 1   answer    821 non-null    object\n",
      "dtypes: object(2)\n",
      "memory usage: 13.0+ KB\n",
      "None\n"
     ]
    }
   ],
   "source": [
    "print(kaggle_df.info())"
   ]
  },
  {
   "cell_type": "markdown",
   "id": "9299397e",
   "metadata": {
    "papermill": {
     "duration": 0.014737,
     "end_time": "2024-04-03T20:49:51.000837",
     "exception": false,
     "start_time": "2024-04-03T20:49:50.986100",
     "status": "completed"
    },
    "tags": []
   },
   "source": [
    "There are 821 QnA data in Kaggle Dataset from Stackoverflow."
   ]
  },
  {
   "cell_type": "code",
   "execution_count": 8,
   "id": "0a2ca354",
   "metadata": {
    "execution": {
     "iopub.execute_input": "2024-04-03T20:49:51.033519Z",
     "iopub.status.busy": "2024-04-03T20:49:51.032575Z",
     "iopub.status.idle": "2024-04-03T20:49:51.089180Z",
     "shell.execute_reply": "2024-04-03T20:49:51.088156Z"
    },
    "papermill": {
     "duration": 0.075227,
     "end_time": "2024-04-03T20:49:51.091439",
     "exception": false,
     "start_time": "2024-04-03T20:49:51.016212",
     "status": "completed"
    },
    "tags": []
   },
   "outputs": [],
   "source": [
    "# Cleaning & formatting plain text data in Kaggle Dataset\n",
    "def clean_text(text: str) -> str:\n",
    "    text = re.sub(r'<[^>]+>', '', text) # remove HTML/Markdown tags\n",
    "    text = re.sub(r'@\\w+', '', text) # remove @user tags\n",
    "    text = text.replace('\\n', ' ') # remove newline characters\n",
    "    text = re.sub(r'\\s+', ' ', text) # remove multiple spaces\n",
    "    text = text.strip() # remove leading and trailing spaces\n",
    "    return text\n",
    "\n",
    "kaggle_df['question'] = kaggle_df['question'].apply(clean_text)\n",
    "kaggle_df['answer'] = kaggle_df['answer'].apply(clean_text)"
   ]
  },
  {
   "cell_type": "code",
   "execution_count": 9,
   "id": "3a6da8d8",
   "metadata": {
    "execution": {
     "iopub.execute_input": "2024-04-03T20:49:51.121843Z",
     "iopub.status.busy": "2024-04-03T20:49:51.121527Z",
     "iopub.status.idle": "2024-04-03T20:49:51.172109Z",
     "shell.execute_reply": "2024-04-03T20:49:51.171150Z"
    },
    "papermill": {
     "duration": 0.068191,
     "end_time": "2024-04-03T20:49:51.174555",
     "exception": false,
     "start_time": "2024-04-03T20:49:51.106364",
     "status": "completed"
    },
    "tags": []
   },
   "outputs": [
    {
     "data": {
      "text/html": [
       "<div>\n",
       "<style scoped>\n",
       "    .dataframe tbody tr th:only-of-type {\n",
       "        vertical-align: middle;\n",
       "    }\n",
       "\n",
       "    .dataframe tbody tr th {\n",
       "        vertical-align: top;\n",
       "    }\n",
       "\n",
       "    .dataframe thead th {\n",
       "        text-align: right;\n",
       "    }\n",
       "</style>\n",
       "<table border=\"1\" class=\"dataframe\">\n",
       "  <thead>\n",
       "    <tr style=\"text-align: right;\">\n",
       "      <th></th>\n",
       "      <th>question</th>\n",
       "      <th>answer</th>\n",
       "    </tr>\n",
       "  </thead>\n",
       "  <tbody>\n",
       "    <tr>\n",
       "      <th>830</th>\n",
       "      <td>Write a python function to count equal element...</td>\n",
       "      <td>def count_Pairs(arr,n): \\r\\n    cnt = 0; \\r\\n ...</td>\n",
       "    </tr>\n",
       "    <tr>\n",
       "      <th>604</th>\n",
       "      <td>Write a function to check if the given integer...</td>\n",
       "      <td>def prime_num(num):\\r\\n  if num &gt;=1:\\r\\n   for...</td>\n",
       "    </tr>\n",
       "    <tr>\n",
       "      <th>301</th>\n",
       "      <td>Write a python function to find the most signi...</td>\n",
       "      <td>def set_Bit_Number(n): \\r\\n    if (n == 0): \\r...</td>\n",
       "    </tr>\n",
       "    <tr>\n",
       "      <th>440</th>\n",
       "      <td>Write a function to find the surface area of a...</td>\n",
       "      <td>def surfacearea_cube(l):\\r\\n  surfacearea= 6*l...</td>\n",
       "    </tr>\n",
       "    <tr>\n",
       "      <th>731</th>\n",
       "      <td>Write a function to replace all occurrences of...</td>\n",
       "      <td>import re\\r\\ndef replace_specialchar(text):\\r\\...</td>\n",
       "    </tr>\n",
       "  </tbody>\n",
       "</table>\n",
       "</div>"
      ],
      "text/plain": [
       "                                              question  \\\n",
       "830  Write a python function to count equal element...   \n",
       "604  Write a function to check if the given integer...   \n",
       "301  Write a python function to find the most signi...   \n",
       "440  Write a function to find the surface area of a...   \n",
       "731  Write a function to replace all occurrences of...   \n",
       "\n",
       "                                                answer  \n",
       "830  def count_Pairs(arr,n): \\r\\n    cnt = 0; \\r\\n ...  \n",
       "604  def prime_num(num):\\r\\n  if num >=1:\\r\\n   for...  \n",
       "301  def set_Bit_Number(n): \\r\\n    if (n == 0): \\r...  \n",
       "440  def surfacearea_cube(l):\\r\\n  surfacearea= 6*l...  \n",
       "731  import re\\r\\ndef replace_specialchar(text):\\r\\...  "
      ]
     },
     "execution_count": 9,
     "metadata": {},
     "output_type": "execute_result"
    }
   ],
   "source": [
    "# Loading & Preprocessing Python Dataset\n",
    "python_df = pd.read_json(path_or_buf= '../input/mbppjsonl/mbpp.jsonl', lines=True)\n",
    "python_df = python_df[['text', 'code']]\n",
    "python_df.rename(columns = {'text': 'question', 'code': 'answer'}, inplace=True)\n",
    "python_df.sample(5)"
   ]
  },
  {
   "cell_type": "code",
   "execution_count": 10,
   "id": "7cd9dcbd",
   "metadata": {
    "execution": {
     "iopub.execute_input": "2024-04-03T20:49:51.208519Z",
     "iopub.status.busy": "2024-04-03T20:49:51.207831Z",
     "iopub.status.idle": "2024-04-03T20:49:51.217346Z",
     "shell.execute_reply": "2024-04-03T20:49:51.216469Z"
    },
    "papermill": {
     "duration": 0.02809,
     "end_time": "2024-04-03T20:49:51.219302",
     "exception": false,
     "start_time": "2024-04-03T20:49:51.191212",
     "status": "completed"
    },
    "tags": []
   },
   "outputs": [
    {
     "name": "stdout",
     "output_type": "stream",
     "text": [
      "<class 'pandas.core.frame.DataFrame'>\n",
      "RangeIndex: 974 entries, 0 to 973\n",
      "Data columns (total 2 columns):\n",
      " #   Column    Non-Null Count  Dtype \n",
      "---  ------    --------------  ----- \n",
      " 0   question  974 non-null    object\n",
      " 1   answer    974 non-null    object\n",
      "dtypes: object(2)\n",
      "memory usage: 15.3+ KB\n",
      "None\n"
     ]
    }
   ],
   "source": [
    "print(python_df.info())"
   ]
  },
  {
   "cell_type": "code",
   "execution_count": 11,
   "id": "2b26ce30",
   "metadata": {
    "execution": {
     "iopub.execute_input": "2024-04-03T20:49:51.251760Z",
     "iopub.status.busy": "2024-04-03T20:49:51.251476Z",
     "iopub.status.idle": "2024-04-03T20:49:51.270567Z",
     "shell.execute_reply": "2024-04-03T20:49:51.269849Z"
    },
    "papermill": {
     "duration": 0.037791,
     "end_time": "2024-04-03T20:49:51.272803",
     "exception": false,
     "start_time": "2024-04-03T20:49:51.235012",
     "status": "completed"
    },
    "tags": []
   },
   "outputs": [
    {
     "data": {
      "text/html": [
       "<div>\n",
       "<style scoped>\n",
       "    .dataframe tbody tr th:only-of-type {\n",
       "        vertical-align: middle;\n",
       "    }\n",
       "\n",
       "    .dataframe tbody tr th {\n",
       "        vertical-align: top;\n",
       "    }\n",
       "\n",
       "    .dataframe thead th {\n",
       "        text-align: right;\n",
       "    }\n",
       "</style>\n",
       "<table border=\"1\" class=\"dataframe\">\n",
       "  <thead>\n",
       "    <tr style=\"text-align: right;\">\n",
       "      <th></th>\n",
       "      <th>question</th>\n",
       "      <th>answer</th>\n",
       "    </tr>\n",
       "  </thead>\n",
       "  <tbody>\n",
       "    <tr>\n",
       "      <th>69</th>\n",
       "      <td>What is batch normalization in neural networks?</td>\n",
       "      <td>Batch normalization is a technique used to nor...</td>\n",
       "    </tr>\n",
       "    <tr>\n",
       "      <th>157</th>\n",
       "      <td>What is policy search in reinforcement learning?</td>\n",
       "      <td>Policy search is a reinforcement learning appr...</td>\n",
       "    </tr>\n",
       "    <tr>\n",
       "      <th>35</th>\n",
       "      <td>How does regularization prevent overfitting in...</td>\n",
       "      <td>Regularization techniques such as L1 and L2 re...</td>\n",
       "    </tr>\n",
       "    <tr>\n",
       "      <th>2</th>\n",
       "      <td>What is the difference between batch processin...</td>\n",
       "      <td>Batch processing involves processing data in l...</td>\n",
       "    </tr>\n",
       "    <tr>\n",
       "      <th>152</th>\n",
       "      <td>What is the discount factor in reinforcement l...</td>\n",
       "      <td>The discount factor is a parameter used in rei...</td>\n",
       "    </tr>\n",
       "  </tbody>\n",
       "</table>\n",
       "</div>"
      ],
      "text/plain": [
       "                                              question  \\\n",
       "69     What is batch normalization in neural networks?   \n",
       "157   What is policy search in reinforcement learning?   \n",
       "35   How does regularization prevent overfitting in...   \n",
       "2    What is the difference between batch processin...   \n",
       "152  What is the discount factor in reinforcement l...   \n",
       "\n",
       "                                                answer  \n",
       "69   Batch normalization is a technique used to nor...  \n",
       "157  Policy search is a reinforcement learning appr...  \n",
       "35   Regularization techniques such as L1 and L2 re...  \n",
       "2    Batch processing involves processing data in l...  \n",
       "152  The discount factor is a parameter used in rei...  "
      ]
     },
     "execution_count": 11,
     "metadata": {},
     "output_type": "execute_result"
    }
   ],
   "source": [
    "# Loading & Preprocessing Data Science QnA Dataset\n",
    "data_science_df = pd.read_csv('/kaggle/input/data-science-questions-and-answers/DataScience QA.csv')\n",
    "data_science_df.rename(columns = {'Question': 'question', 'Answer': 'answer'}, inplace=True)\n",
    "data_science_df.sample(5)"
   ]
  },
  {
   "cell_type": "code",
   "execution_count": 12,
   "id": "46b72dd8",
   "metadata": {
    "execution": {
     "iopub.execute_input": "2024-04-03T20:49:51.307762Z",
     "iopub.status.busy": "2024-04-03T20:49:51.306863Z",
     "iopub.status.idle": "2024-04-03T20:49:51.316348Z",
     "shell.execute_reply": "2024-04-03T20:49:51.315323Z"
    },
    "papermill": {
     "duration": 0.028174,
     "end_time": "2024-04-03T20:49:51.318306",
     "exception": false,
     "start_time": "2024-04-03T20:49:51.290132",
     "status": "completed"
    },
    "tags": []
   },
   "outputs": [
    {
     "name": "stdout",
     "output_type": "stream",
     "text": [
      "<class 'pandas.core.frame.DataFrame'>\n",
      "RangeIndex: 158 entries, 0 to 157\n",
      "Data columns (total 2 columns):\n",
      " #   Column    Non-Null Count  Dtype \n",
      "---  ------    --------------  ----- \n",
      " 0   question  158 non-null    object\n",
      " 1   answer    158 non-null    object\n",
      "dtypes: object(2)\n",
      "memory usage: 2.6+ KB\n",
      "None\n"
     ]
    }
   ],
   "source": [
    "print(data_science_df.info())"
   ]
  },
  {
   "cell_type": "markdown",
   "id": "bd513a6c",
   "metadata": {
    "papermill": {
     "duration": 0.015763,
     "end_time": "2024-04-03T20:49:51.349813",
     "exception": false,
     "start_time": "2024-04-03T20:49:51.334050",
     "status": "completed"
    },
    "tags": []
   },
   "source": [
    "There are 974 QnA data in Python Dataset and 158 QnA data in Data Sciecne Dataset. In general, it will be 821 + 974 + 158 => 1953 data rows."
   ]
  },
  {
   "cell_type": "code",
   "execution_count": 13,
   "id": "1ea15795",
   "metadata": {
    "execution": {
     "iopub.execute_input": "2024-04-03T20:49:51.382415Z",
     "iopub.status.busy": "2024-04-03T20:49:51.382061Z",
     "iopub.status.idle": "2024-04-03T20:49:51.387626Z",
     "shell.execute_reply": "2024-04-03T20:49:51.386635Z"
    },
    "papermill": {
     "duration": 0.024252,
     "end_time": "2024-04-03T20:49:51.389868",
     "exception": false,
     "start_time": "2024-04-03T20:49:51.365616",
     "status": "completed"
    },
    "tags": []
   },
   "outputs": [],
   "source": [
    "# Combining 2 datasets into one dataframe\n",
    "kaggle_df = pd.concat([kaggle_df, python_df, data_science_df])"
   ]
  },
  {
   "cell_type": "code",
   "execution_count": 14,
   "id": "d8ab6062",
   "metadata": {
    "execution": {
     "iopub.execute_input": "2024-04-03T20:49:51.424845Z",
     "iopub.status.busy": "2024-04-03T20:49:51.424469Z",
     "iopub.status.idle": "2024-04-03T20:49:51.435052Z",
     "shell.execute_reply": "2024-04-03T20:49:51.434137Z"
    },
    "papermill": {
     "duration": 0.030719,
     "end_time": "2024-04-03T20:49:51.437124",
     "exception": false,
     "start_time": "2024-04-03T20:49:51.406405",
     "status": "completed"
    },
    "tags": []
   },
   "outputs": [],
   "source": [
    "# Calculating lengths for setting up max_len for data preprocessing, to avoid memory limit exceed\n",
    "kaggle_df['question_length'] = kaggle_df['question'].str.len()\n",
    "kaggle_df['answer_length'] = kaggle_df['answer'].str.len()"
   ]
  },
  {
   "cell_type": "code",
   "execution_count": 15,
   "id": "ea3f3d41",
   "metadata": {
    "execution": {
     "iopub.execute_input": "2024-04-03T20:49:51.519440Z",
     "iopub.status.busy": "2024-04-03T20:49:51.518806Z",
     "iopub.status.idle": "2024-04-03T20:49:51.530286Z",
     "shell.execute_reply": "2024-04-03T20:49:51.529383Z"
    },
    "papermill": {
     "duration": 0.030192,
     "end_time": "2024-04-03T20:49:51.532275",
     "exception": false,
     "start_time": "2024-04-03T20:49:51.502083",
     "status": "completed"
    },
    "tags": []
   },
   "outputs": [
    {
     "data": {
      "text/html": [
       "<div>\n",
       "<style scoped>\n",
       "    .dataframe tbody tr th:only-of-type {\n",
       "        vertical-align: middle;\n",
       "    }\n",
       "\n",
       "    .dataframe tbody tr th {\n",
       "        vertical-align: top;\n",
       "    }\n",
       "\n",
       "    .dataframe thead th {\n",
       "        text-align: right;\n",
       "    }\n",
       "</style>\n",
       "<table border=\"1\" class=\"dataframe\">\n",
       "  <thead>\n",
       "    <tr style=\"text-align: right;\">\n",
       "      <th></th>\n",
       "      <th>question</th>\n",
       "      <th>answer</th>\n",
       "      <th>question_length</th>\n",
       "      <th>answer_length</th>\n",
       "    </tr>\n",
       "  </thead>\n",
       "  <tbody>\n",
       "    <tr>\n",
       "      <th>343</th>\n",
       "      <td>Best Practice for Kaggle Datasets with Colab</td>\n",
       "      <td>There are 2 approaches that are both convenien...</td>\n",
       "      <td>44</td>\n",
       "      <td>481</td>\n",
       "    </tr>\n",
       "    <tr>\n",
       "      <th>348</th>\n",
       "      <td>Write a python function to check whether the g...</td>\n",
       "      <td>def check(string) :\\r\\n    p = set(string) \\r\\...</td>\n",
       "      <td>84</td>\n",
       "      <td>169</td>\n",
       "    </tr>\n",
       "    <tr>\n",
       "      <th>632</th>\n",
       "      <td>Can I use tf.metrics.BinaryAccuracy in a multi...</td>\n",
       "      <td>tf.keras.metrics.BinaryAccuracy is used for bi...</td>\n",
       "      <td>75</td>\n",
       "      <td>175</td>\n",
       "    </tr>\n",
       "    <tr>\n",
       "      <th>276</th>\n",
       "      <td>How to load Kaggle datasets into Intel DevClou...</td>\n",
       "      <td>Steps: Open a terminal in dev cloud (+ on top ...</td>\n",
       "      <td>64</td>\n",
       "      <td>689</td>\n",
       "    </tr>\n",
       "    <tr>\n",
       "      <th>395</th>\n",
       "      <td>Write a function to check whether the given st...</td>\n",
       "      <td>import re  \\r\\nregex = r'^[a-z]$|^([a-z]).*\\1$...</td>\n",
       "      <td>110</td>\n",
       "      <td>153</td>\n",
       "    </tr>\n",
       "  </tbody>\n",
       "</table>\n",
       "</div>"
      ],
      "text/plain": [
       "                                              question  \\\n",
       "343       Best Practice for Kaggle Datasets with Colab   \n",
       "348  Write a python function to check whether the g...   \n",
       "632  Can I use tf.metrics.BinaryAccuracy in a multi...   \n",
       "276  How to load Kaggle datasets into Intel DevClou...   \n",
       "395  Write a function to check whether the given st...   \n",
       "\n",
       "                                                answer  question_length  \\\n",
       "343  There are 2 approaches that are both convenien...               44   \n",
       "348  def check(string) :\\r\\n    p = set(string) \\r\\...               84   \n",
       "632  tf.keras.metrics.BinaryAccuracy is used for bi...               75   \n",
       "276  Steps: Open a terminal in dev cloud (+ on top ...               64   \n",
       "395  import re  \\r\\nregex = r'^[a-z]$|^([a-z]).*\\1$...              110   \n",
       "\n",
       "     answer_length  \n",
       "343            481  \n",
       "348            169  \n",
       "632            175  \n",
       "276            689  \n",
       "395            153  "
      ]
     },
     "execution_count": 15,
     "metadata": {},
     "output_type": "execute_result"
    }
   ],
   "source": [
    "kaggle_df.sample(5)"
   ]
  },
  {
   "cell_type": "code",
   "execution_count": 16,
   "id": "6f86684e",
   "metadata": {
    "execution": {
     "iopub.execute_input": "2024-04-03T20:49:51.566012Z",
     "iopub.status.busy": "2024-04-03T20:49:51.565345Z",
     "iopub.status.idle": "2024-04-03T20:49:51.682911Z",
     "shell.execute_reply": "2024-04-03T20:49:51.681868Z"
    },
    "papermill": {
     "duration": 0.137334,
     "end_time": "2024-04-03T20:49:51.685474",
     "exception": false,
     "start_time": "2024-04-03T20:49:51.548140",
     "status": "completed"
    },
    "tags": []
   },
   "outputs": [
    {
     "data": {
      "text/html": [
       "<style type=\"text/css\">\n",
       "#T_20a4b_row0_col0, #T_20a4b_row0_col1, #T_20a4b_row0_col2, #T_20a4b_row0_col3, #T_20a4b_row0_col4, #T_20a4b_row0_col5, #T_20a4b_row0_col6, #T_20a4b_row0_col7, #T_20a4b_row1_col0 {\n",
       "  background-color: #f7fbff;\n",
       "  color: #000000;\n",
       "}\n",
       "#T_20a4b_row1_col1, #T_20a4b_row1_col2, #T_20a4b_row1_col3, #T_20a4b_row1_col4, #T_20a4b_row1_col5, #T_20a4b_row1_col6, #T_20a4b_row1_col7 {\n",
       "  background-color: #08306b;\n",
       "  color: #f1f1f1;\n",
       "}\n",
       "</style>\n",
       "<table id=\"T_20a4b\">\n",
       "  <thead>\n",
       "    <tr>\n",
       "      <th class=\"blank level0\" >&nbsp;</th>\n",
       "      <th id=\"T_20a4b_level0_col0\" class=\"col_heading level0 col0\" >count</th>\n",
       "      <th id=\"T_20a4b_level0_col1\" class=\"col_heading level0 col1\" >mean</th>\n",
       "      <th id=\"T_20a4b_level0_col2\" class=\"col_heading level0 col2\" >std</th>\n",
       "      <th id=\"T_20a4b_level0_col3\" class=\"col_heading level0 col3\" >min</th>\n",
       "      <th id=\"T_20a4b_level0_col4\" class=\"col_heading level0 col4\" >25%</th>\n",
       "      <th id=\"T_20a4b_level0_col5\" class=\"col_heading level0 col5\" >50%</th>\n",
       "      <th id=\"T_20a4b_level0_col6\" class=\"col_heading level0 col6\" >75%</th>\n",
       "      <th id=\"T_20a4b_level0_col7\" class=\"col_heading level0 col7\" >max</th>\n",
       "    </tr>\n",
       "  </thead>\n",
       "  <tbody>\n",
       "    <tr>\n",
       "      <th id=\"T_20a4b_level0_row0\" class=\"row_heading level0 row0\" >question_length</th>\n",
       "      <td id=\"T_20a4b_row0_col0\" class=\"data row0 col0\" >1953.000000</td>\n",
       "      <td id=\"T_20a4b_row0_col1\" class=\"data row0 col1\" >68.472094</td>\n",
       "      <td id=\"T_20a4b_row0_col2\" class=\"data row0 col2\" >25.419379</td>\n",
       "      <td id=\"T_20a4b_row0_col3\" class=\"data row0 col3\" >14.000000</td>\n",
       "      <td id=\"T_20a4b_row0_col4\" class=\"data row0 col4\" >50.000000</td>\n",
       "      <td id=\"T_20a4b_row0_col5\" class=\"data row0 col5\" >67.000000</td>\n",
       "      <td id=\"T_20a4b_row0_col6\" class=\"data row0 col6\" >83.000000</td>\n",
       "      <td id=\"T_20a4b_row0_col7\" class=\"data row0 col7\" >249.000000</td>\n",
       "    </tr>\n",
       "    <tr>\n",
       "      <th id=\"T_20a4b_level0_row1\" class=\"row_heading level0 row1\" >answer_length</th>\n",
       "      <td id=\"T_20a4b_row1_col0\" class=\"data row1 col0\" >1953.000000</td>\n",
       "      <td id=\"T_20a4b_row1_col1\" class=\"data row1 col1\" >340.487967</td>\n",
       "      <td id=\"T_20a4b_row1_col2\" class=\"data row1 col2\" >439.740719</td>\n",
       "      <td id=\"T_20a4b_row1_col3\" class=\"data row1 col3\" >30.000000</td>\n",
       "      <td id=\"T_20a4b_row1_col4\" class=\"data row1 col4\" >127.000000</td>\n",
       "      <td id=\"T_20a4b_row1_col5\" class=\"data row1 col5\" >211.000000</td>\n",
       "      <td id=\"T_20a4b_row1_col6\" class=\"data row1 col6\" >377.000000</td>\n",
       "      <td id=\"T_20a4b_row1_col7\" class=\"data row1 col7\" >5430.000000</td>\n",
       "    </tr>\n",
       "  </tbody>\n",
       "</table>\n"
      ],
      "text/plain": [
       "<pandas.io.formats.style.Styler at 0x7fef081d68c0>"
      ]
     },
     "execution_count": 16,
     "metadata": {},
     "output_type": "execute_result"
    }
   ],
   "source": [
    "kaggle_df.describe().T.style.background_gradient(cmap='Blues')"
   ]
  },
  {
   "cell_type": "code",
   "execution_count": 17,
   "id": "b27ad95e",
   "metadata": {
    "execution": {
     "iopub.execute_input": "2024-04-03T20:49:51.722698Z",
     "iopub.status.busy": "2024-04-03T20:49:51.721802Z",
     "iopub.status.idle": "2024-04-03T20:49:51.730069Z",
     "shell.execute_reply": "2024-04-03T20:49:51.729199Z"
    },
    "papermill": {
     "duration": 0.028672,
     "end_time": "2024-04-03T20:49:51.732185",
     "exception": false,
     "start_time": "2024-04-03T20:49:51.703513",
     "status": "completed"
    },
    "tags": []
   },
   "outputs": [
    {
     "data": {
      "text/plain": [
       "95"
      ]
     },
     "execution_count": 17,
     "metadata": {},
     "output_type": "execute_result"
    }
   ],
   "source": [
    "len(kaggle_df[(kaggle_df['answer_length'] > 1024) | (kaggle_df['question_length'] > 1024)])"
   ]
  },
  {
   "cell_type": "markdown",
   "id": "1b18a58c",
   "metadata": {
    "papermill": {
     "duration": 0.015698,
     "end_time": "2024-04-03T20:49:51.765292",
     "exception": false,
     "start_time": "2024-04-03T20:49:51.749594",
     "status": "completed"
    },
    "tags": []
   },
   "source": [
    "Only 95 rows are greater than 1024, so we can limit setup our`max_len` to 1024. "
   ]
  },
  {
   "cell_type": "markdown",
   "id": "7b33d965",
   "metadata": {
    "papermill": {
     "duration": 0.015522,
     "end_time": "2024-04-03T20:49:51.796771",
     "exception": false,
     "start_time": "2024-04-03T20:49:51.781249",
     "status": "completed"
    },
    "tags": []
   },
   "source": [
    "# 3. Data Preparation"
   ]
  },
  {
   "cell_type": "code",
   "execution_count": 18,
   "id": "9c5b9a15",
   "metadata": {
    "execution": {
     "iopub.execute_input": "2024-04-03T20:49:51.829287Z",
     "iopub.status.busy": "2024-04-03T20:49:51.828923Z",
     "iopub.status.idle": "2024-04-03T20:49:51.844089Z",
     "shell.execute_reply": "2024-04-03T20:49:51.843150Z"
    },
    "papermill": {
     "duration": 0.03432,
     "end_time": "2024-04-03T20:49:51.846432",
     "exception": false,
     "start_time": "2024-04-03T20:49:51.812112",
     "status": "completed"
    },
    "tags": []
   },
   "outputs": [
    {
     "data": {
      "text/html": [
       "<div>\n",
       "<style scoped>\n",
       "    .dataframe tbody tr th:only-of-type {\n",
       "        vertical-align: middle;\n",
       "    }\n",
       "\n",
       "    .dataframe tbody tr th {\n",
       "        vertical-align: top;\n",
       "    }\n",
       "\n",
       "    .dataframe thead th {\n",
       "        text-align: right;\n",
       "    }\n",
       "</style>\n",
       "<table border=\"1\" class=\"dataframe\">\n",
       "  <thead>\n",
       "    <tr style=\"text-align: right;\">\n",
       "      <th></th>\n",
       "      <th>question</th>\n",
       "      <th>answer</th>\n",
       "      <th>question_length</th>\n",
       "      <th>answer_length</th>\n",
       "    </tr>\n",
       "  </thead>\n",
       "  <tbody>\n",
       "    <tr>\n",
       "      <th>404</th>\n",
       "      <td>Write a function to check whether an element e...</td>\n",
       "      <td>def check_tuplex(tuplex,tuple1): \\r\\n  if tupl...</td>\n",
       "      <td>67</td>\n",
       "      <td>102</td>\n",
       "    </tr>\n",
       "    <tr>\n",
       "      <th>265</th>\n",
       "      <td>Why does my Kaggle notebook look like JSON</td>\n",
       "      <td>Oh, OK, I just clicked on [Edit] and now the n...</td>\n",
       "      <td>42</td>\n",
       "      <td>76</td>\n",
       "    </tr>\n",
       "    <tr>\n",
       "      <th>723</th>\n",
       "      <td>Write a function to calculate the sum of all d...</td>\n",
       "      <td>def power_base_sum(base, power):\\r\\n    return...</td>\n",
       "      <td>87</td>\n",
       "      <td>89</td>\n",
       "    </tr>\n",
       "    <tr>\n",
       "      <th>231</th>\n",
       "      <td>Write a function to get the n largest items fr...</td>\n",
       "      <td>import heapq\\r\\ndef larg_nnum(list1,n):\\r\\n la...</td>\n",
       "      <td>59</td>\n",
       "      <td>88</td>\n",
       "    </tr>\n",
       "    <tr>\n",
       "      <th>256</th>\n",
       "      <td>Write a function to swap two numbers.</td>\n",
       "      <td>def swap_numbers(a,b):\\r\\n temp = a\\r\\n a = b\\...</td>\n",
       "      <td>37</td>\n",
       "      <td>67</td>\n",
       "    </tr>\n",
       "  </tbody>\n",
       "</table>\n",
       "</div>"
      ],
      "text/plain": [
       "                                              question  \\\n",
       "404  Write a function to check whether an element e...   \n",
       "265         Why does my Kaggle notebook look like JSON   \n",
       "723  Write a function to calculate the sum of all d...   \n",
       "231  Write a function to get the n largest items fr...   \n",
       "256              Write a function to swap two numbers.   \n",
       "\n",
       "                                                answer  question_length  \\\n",
       "404  def check_tuplex(tuplex,tuple1): \\r\\n  if tupl...               67   \n",
       "265  Oh, OK, I just clicked on [Edit] and now the n...               42   \n",
       "723  def power_base_sum(base, power):\\r\\n    return...               87   \n",
       "231  import heapq\\r\\ndef larg_nnum(list1,n):\\r\\n la...               59   \n",
       "256  def swap_numbers(a,b):\\r\\n temp = a\\r\\n a = b\\...               37   \n",
       "\n",
       "     answer_length  \n",
       "404            102  \n",
       "265             76  \n",
       "723             89  \n",
       "231             88  \n",
       "256             67  "
      ]
     },
     "execution_count": 18,
     "metadata": {},
     "output_type": "execute_result"
    }
   ],
   "source": [
    "# Limiting text size with max_len = 1024\n",
    "def text_limit(text: str) -> str:\n",
    "    max_len = 1024\n",
    "    return text[:max_len] if len(text) > max_len else text\n",
    "\n",
    "kaggle_df['question'] = kaggle_df['question'].apply(text_limit)\n",
    "kaggle_df['answer'] = kaggle_df['answer'].apply(text_limit)\n",
    "\n",
    "kaggle_df.sample(5)"
   ]
  },
  {
   "cell_type": "code",
   "execution_count": 19,
   "id": "38af5530",
   "metadata": {
    "execution": {
     "iopub.execute_input": "2024-04-03T20:49:51.882230Z",
     "iopub.status.busy": "2024-04-03T20:49:51.881657Z",
     "iopub.status.idle": "2024-04-03T20:49:52.016676Z",
     "shell.execute_reply": "2024-04-03T20:49:52.015623Z"
    },
    "papermill": {
     "duration": 0.155152,
     "end_time": "2024-04-03T20:49:52.019078",
     "exception": false,
     "start_time": "2024-04-03T20:49:51.863926",
     "status": "completed"
    },
    "tags": []
   },
   "outputs": [
    {
     "data": {
      "text/plain": [
       "\"Question:\\nCreate a set from a series in pandas\\n\\\\Answer:\\nIf you only need to get list of unique values, you can just use unique method. If you want to have Python's set, then do set(some_series) In [1]: s = pd.Series([1, 2, 3, 1, 1, 4]) In [2]: s.unique() Out[2]: array([1, 2, 3, 4]) In [3]: set(s) Out[3]: {1, 2, 3, 4} However, if you have DataFrame, just select series out of it ( some_data_frame[''] ).\""
      ]
     },
     "execution_count": 19,
     "metadata": {},
     "output_type": "execute_result"
    }
   ],
   "source": [
    "# Transforming our general dataframe into list with specified format of Questions & Answers.\n",
    "kaggle_data = []\n",
    "\n",
    "for _, row in kaggle_df.iterrows():\n",
    "    kaggle_data.append(f'Question:\\n{row[\"question\"]}\\n\\Answer:\\n{row[\"answer\"]}')\n",
    "\n",
    "kaggle_data[0]"
   ]
  },
  {
   "cell_type": "markdown",
   "id": "580d5dba",
   "metadata": {
    "id": "7RCE3fdGhDE5",
    "papermill": {
     "duration": 0.025979,
     "end_time": "2024-04-03T20:49:52.063184",
     "exception": false,
     "start_time": "2024-04-03T20:49:52.037205",
     "status": "completed"
    },
    "tags": []
   },
   "source": [
    "# 4. Load Model"
   ]
  },
  {
   "cell_type": "code",
   "execution_count": 20,
   "id": "f2882a21",
   "metadata": {
    "execution": {
     "iopub.execute_input": "2024-04-03T20:49:52.100375Z",
     "iopub.status.busy": "2024-04-03T20:49:52.100025Z",
     "iopub.status.idle": "2024-04-03T20:50:54.778021Z",
     "shell.execute_reply": "2024-04-03T20:50:54.777104Z"
    },
    "id": "vz5zLEyLstfn",
    "outputId": "51cc6fc3-e1bd-4a5c-dff7-4425debbd4e2",
    "papermill": {
     "duration": 62.698108,
     "end_time": "2024-04-03T20:50:54.780376",
     "exception": false,
     "start_time": "2024-04-03T20:49:52.082268",
     "status": "completed"
    },
    "tags": []
   },
   "outputs": [
    {
     "name": "stderr",
     "output_type": "stream",
     "text": [
      "Attaching 'config.json' from model 'keras/gemma/keras/gemma_2b_en/2' to your Kaggle notebook...\n",
      "Attaching 'config.json' from model 'keras/gemma/keras/gemma_2b_en/2' to your Kaggle notebook...\n",
      "Attaching 'model.weights.h5' from model 'keras/gemma/keras/gemma_2b_en/2' to your Kaggle notebook...\n",
      "Attaching 'tokenizer.json' from model 'keras/gemma/keras/gemma_2b_en/2' to your Kaggle notebook...\n",
      "Attaching 'assets/tokenizer/vocabulary.spm' from model 'keras/gemma/keras/gemma_2b_en/2' to your Kaggle notebook...\n",
      "normalizer.cc(51) LOG(INFO) precompiled_charsmap is empty. use identity normalization.\n"
     ]
    },
    {
     "data": {
      "text/html": [
       "<pre style=\"white-space:pre;overflow-x:auto;line-height:normal;font-family:Menlo,'DejaVu Sans Mono',consolas,'Courier New',monospace\"><span style=\"font-weight: bold\">Preprocessor: \"gemma_causal_lm_preprocessor\"</span>\n",
       "</pre>\n"
      ],
      "text/plain": [
       "\u001b[1mPreprocessor: \"gemma_causal_lm_preprocessor\"\u001b[0m\n"
      ]
     },
     "metadata": {},
     "output_type": "display_data"
    },
    {
     "data": {
      "text/html": [
       "<pre style=\"white-space:pre;overflow-x:auto;line-height:normal;font-family:Menlo,'DejaVu Sans Mono',consolas,'Courier New',monospace\">┏━━━━━━━━━━━━━━━━━━━━━━━━━━━━━━━━━━━━━━━━━━━━━━━━━━━━┳━━━━━━━━━━━━━━━━━━━━━━━━━━━━━━━━━━━━━━━━━━━━━━━━━━━━━┓\n",
       "┃<span style=\"font-weight: bold\"> Tokenizer (type)                                   </span>┃<span style=\"font-weight: bold\">                                             Vocab # </span>┃\n",
       "┡━━━━━━━━━━━━━━━━━━━━━━━━━━━━━━━━━━━━━━━━━━━━━━━━━━━━╇━━━━━━━━━━━━━━━━━━━━━━━━━━━━━━━━━━━━━━━━━━━━━━━━━━━━━┩\n",
       "│ gemma_tokenizer (<span style=\"color: #0087ff; text-decoration-color: #0087ff\">GemmaTokenizer</span>)                   │                                             <span style=\"color: #00af00; text-decoration-color: #00af00\">256,000</span> │\n",
       "└────────────────────────────────────────────────────┴─────────────────────────────────────────────────────┘\n",
       "</pre>\n"
      ],
      "text/plain": [
       "┏━━━━━━━━━━━━━━━━━━━━━━━━━━━━━━━━━━━━━━━━━━━━━━━━━━━━┳━━━━━━━━━━━━━━━━━━━━━━━━━━━━━━━━━━━━━━━━━━━━━━━━━━━━━┓\n",
       "┃\u001b[1m \u001b[0m\u001b[1mTokenizer (type)                                  \u001b[0m\u001b[1m \u001b[0m┃\u001b[1m \u001b[0m\u001b[1m                                            Vocab #\u001b[0m\u001b[1m \u001b[0m┃\n",
       "┡━━━━━━━━━━━━━━━━━━━━━━━━━━━━━━━━━━━━━━━━━━━━━━━━━━━━╇━━━━━━━━━━━━━━━━━━━━━━━━━━━━━━━━━━━━━━━━━━━━━━━━━━━━━┩\n",
       "│ gemma_tokenizer (\u001b[38;5;33mGemmaTokenizer\u001b[0m)                   │                                             \u001b[38;5;34m256,000\u001b[0m │\n",
       "└────────────────────────────────────────────────────┴─────────────────────────────────────────────────────┘\n"
      ]
     },
     "metadata": {},
     "output_type": "display_data"
    },
    {
     "data": {
      "text/html": [
       "<pre style=\"white-space:pre;overflow-x:auto;line-height:normal;font-family:Menlo,'DejaVu Sans Mono',consolas,'Courier New',monospace\"><span style=\"font-weight: bold\">Model: \"gemma_causal_lm\"</span>\n",
       "</pre>\n"
      ],
      "text/plain": [
       "\u001b[1mModel: \"gemma_causal_lm\"\u001b[0m\n"
      ]
     },
     "metadata": {},
     "output_type": "display_data"
    },
    {
     "data": {
      "text/html": [
       "<pre style=\"white-space:pre;overflow-x:auto;line-height:normal;font-family:Menlo,'DejaVu Sans Mono',consolas,'Courier New',monospace\">┏━━━━━━━━━━━━━━━━━━━━━━━━━━━━━━━┳━━━━━━━━━━━━━━━━━━━━━━━━━━━┳━━━━━━━━━━━━━━━━━┳━━━━━━━━━━━━━━━━━━━━━━━━━━━━┓\n",
       "┃<span style=\"font-weight: bold\"> Layer (type)                  </span>┃<span style=\"font-weight: bold\"> Output Shape              </span>┃<span style=\"font-weight: bold\">         Param # </span>┃<span style=\"font-weight: bold\"> Connected to               </span>┃\n",
       "┡━━━━━━━━━━━━━━━━━━━━━━━━━━━━━━━╇━━━━━━━━━━━━━━━━━━━━━━━━━━━╇━━━━━━━━━━━━━━━━━╇━━━━━━━━━━━━━━━━━━━━━━━━━━━━┩\n",
       "│ padding_mask (<span style=\"color: #0087ff; text-decoration-color: #0087ff\">InputLayer</span>)     │ (<span style=\"color: #00d7ff; text-decoration-color: #00d7ff\">None</span>, <span style=\"color: #00d7ff; text-decoration-color: #00d7ff\">None</span>)              │               <span style=\"color: #00af00; text-decoration-color: #00af00\">0</span> │ -                          │\n",
       "├───────────────────────────────┼───────────────────────────┼─────────────────┼────────────────────────────┤\n",
       "│ token_ids (<span style=\"color: #0087ff; text-decoration-color: #0087ff\">InputLayer</span>)        │ (<span style=\"color: #00d7ff; text-decoration-color: #00d7ff\">None</span>, <span style=\"color: #00d7ff; text-decoration-color: #00d7ff\">None</span>)              │               <span style=\"color: #00af00; text-decoration-color: #00af00\">0</span> │ -                          │\n",
       "├───────────────────────────────┼───────────────────────────┼─────────────────┼────────────────────────────┤\n",
       "│ gemma_backbone                │ (<span style=\"color: #00d7ff; text-decoration-color: #00d7ff\">None</span>, <span style=\"color: #00d7ff; text-decoration-color: #00d7ff\">None</span>, <span style=\"color: #00af00; text-decoration-color: #00af00\">2048</span>)        │   <span style=\"color: #00af00; text-decoration-color: #00af00\">2,506,172,416</span> │ padding_mask[<span style=\"color: #00af00; text-decoration-color: #00af00\">0</span>][<span style=\"color: #00af00; text-decoration-color: #00af00\">0</span>],        │\n",
       "│ (<span style=\"color: #0087ff; text-decoration-color: #0087ff\">GemmaBackbone</span>)               │                           │                 │ token_ids[<span style=\"color: #00af00; text-decoration-color: #00af00\">0</span>][<span style=\"color: #00af00; text-decoration-color: #00af00\">0</span>]            │\n",
       "├───────────────────────────────┼───────────────────────────┼─────────────────┼────────────────────────────┤\n",
       "│ token_embedding               │ (<span style=\"color: #00d7ff; text-decoration-color: #00d7ff\">None</span>, <span style=\"color: #00d7ff; text-decoration-color: #00d7ff\">None</span>, <span style=\"color: #00af00; text-decoration-color: #00af00\">256000</span>)      │     <span style=\"color: #00af00; text-decoration-color: #00af00\">524,288,000</span> │ gemma_backbone[<span style=\"color: #00af00; text-decoration-color: #00af00\">0</span>][<span style=\"color: #00af00; text-decoration-color: #00af00\">0</span>]       │\n",
       "│ (<span style=\"color: #0087ff; text-decoration-color: #0087ff\">ReversibleEmbedding</span>)         │                           │                 │                            │\n",
       "└───────────────────────────────┴───────────────────────────┴─────────────────┴────────────────────────────┘\n",
       "</pre>\n"
      ],
      "text/plain": [
       "┏━━━━━━━━━━━━━━━━━━━━━━━━━━━━━━━┳━━━━━━━━━━━━━━━━━━━━━━━━━━━┳━━━━━━━━━━━━━━━━━┳━━━━━━━━━━━━━━━━━━━━━━━━━━━━┓\n",
       "┃\u001b[1m \u001b[0m\u001b[1mLayer (type)                 \u001b[0m\u001b[1m \u001b[0m┃\u001b[1m \u001b[0m\u001b[1mOutput Shape             \u001b[0m\u001b[1m \u001b[0m┃\u001b[1m \u001b[0m\u001b[1m        Param #\u001b[0m\u001b[1m \u001b[0m┃\u001b[1m \u001b[0m\u001b[1mConnected to              \u001b[0m\u001b[1m \u001b[0m┃\n",
       "┡━━━━━━━━━━━━━━━━━━━━━━━━━━━━━━━╇━━━━━━━━━━━━━━━━━━━━━━━━━━━╇━━━━━━━━━━━━━━━━━╇━━━━━━━━━━━━━━━━━━━━━━━━━━━━┩\n",
       "│ padding_mask (\u001b[38;5;33mInputLayer\u001b[0m)     │ (\u001b[38;5;45mNone\u001b[0m, \u001b[38;5;45mNone\u001b[0m)              │               \u001b[38;5;34m0\u001b[0m │ -                          │\n",
       "├───────────────────────────────┼───────────────────────────┼─────────────────┼────────────────────────────┤\n",
       "│ token_ids (\u001b[38;5;33mInputLayer\u001b[0m)        │ (\u001b[38;5;45mNone\u001b[0m, \u001b[38;5;45mNone\u001b[0m)              │               \u001b[38;5;34m0\u001b[0m │ -                          │\n",
       "├───────────────────────────────┼───────────────────────────┼─────────────────┼────────────────────────────┤\n",
       "│ gemma_backbone                │ (\u001b[38;5;45mNone\u001b[0m, \u001b[38;5;45mNone\u001b[0m, \u001b[38;5;34m2048\u001b[0m)        │   \u001b[38;5;34m2,506,172,416\u001b[0m │ padding_mask[\u001b[38;5;34m0\u001b[0m][\u001b[38;5;34m0\u001b[0m],        │\n",
       "│ (\u001b[38;5;33mGemmaBackbone\u001b[0m)               │                           │                 │ token_ids[\u001b[38;5;34m0\u001b[0m][\u001b[38;5;34m0\u001b[0m]            │\n",
       "├───────────────────────────────┼───────────────────────────┼─────────────────┼────────────────────────────┤\n",
       "│ token_embedding               │ (\u001b[38;5;45mNone\u001b[0m, \u001b[38;5;45mNone\u001b[0m, \u001b[38;5;34m256000\u001b[0m)      │     \u001b[38;5;34m524,288,000\u001b[0m │ gemma_backbone[\u001b[38;5;34m0\u001b[0m][\u001b[38;5;34m0\u001b[0m]       │\n",
       "│ (\u001b[38;5;33mReversibleEmbedding\u001b[0m)         │                           │                 │                            │\n",
       "└───────────────────────────────┴───────────────────────────┴─────────────────┴────────────────────────────┘\n"
      ]
     },
     "metadata": {},
     "output_type": "display_data"
    },
    {
     "data": {
      "text/html": [
       "<pre style=\"white-space:pre;overflow-x:auto;line-height:normal;font-family:Menlo,'DejaVu Sans Mono',consolas,'Courier New',monospace\"><span style=\"font-weight: bold\"> Total params: </span><span style=\"color: #00af00; text-decoration-color: #00af00\">2,506,172,416</span> (9.34 GB)\n",
       "</pre>\n"
      ],
      "text/plain": [
       "\u001b[1m Total params: \u001b[0m\u001b[38;5;34m2,506,172,416\u001b[0m (9.34 GB)\n"
      ]
     },
     "metadata": {},
     "output_type": "display_data"
    },
    {
     "data": {
      "text/html": [
       "<pre style=\"white-space:pre;overflow-x:auto;line-height:normal;font-family:Menlo,'DejaVu Sans Mono',consolas,'Courier New',monospace\"><span style=\"font-weight: bold\"> Trainable params: </span><span style=\"color: #00af00; text-decoration-color: #00af00\">2,506,172,416</span> (9.34 GB)\n",
       "</pre>\n"
      ],
      "text/plain": [
       "\u001b[1m Trainable params: \u001b[0m\u001b[38;5;34m2,506,172,416\u001b[0m (9.34 GB)\n"
      ]
     },
     "metadata": {},
     "output_type": "display_data"
    },
    {
     "data": {
      "text/html": [
       "<pre style=\"white-space:pre;overflow-x:auto;line-height:normal;font-family:Menlo,'DejaVu Sans Mono',consolas,'Courier New',monospace\"><span style=\"font-weight: bold\"> Non-trainable params: </span><span style=\"color: #00af00; text-decoration-color: #00af00\">0</span> (0.00 B)\n",
       "</pre>\n"
      ],
      "text/plain": [
       "\u001b[1m Non-trainable params: \u001b[0m\u001b[38;5;34m0\u001b[0m (0.00 B)\n"
      ]
     },
     "metadata": {},
     "output_type": "display_data"
    },
    {
     "name": "stdout",
     "output_type": "stream",
     "text": [
      "CPU times: user 10.4 s, sys: 13.9 s, total: 24.3 s\n",
      "Wall time: 1min 2s\n"
     ]
    }
   ],
   "source": [
    "%%time\n",
    "\n",
    "# Create GemmaCausalLM model using the gemma_2b_en preset\n",
    "gemma_lm = keras_nlp.models.GemmaCausalLM.from_preset(\"gemma_2b_en\")\n",
    "\n",
    "# Display a summary of the Gemma 2B model\n",
    "gemma_lm.summary()"
   ]
  },
  {
   "cell_type": "code",
   "execution_count": 21,
   "id": "13bfaa6f",
   "metadata": {
    "execution": {
     "iopub.execute_input": "2024-04-03T20:50:54.820502Z",
     "iopub.status.busy": "2024-04-03T20:50:54.819672Z",
     "iopub.status.idle": "2024-04-03T20:50:54.832871Z",
     "shell.execute_reply": "2024-04-03T20:50:54.831992Z"
    },
    "papermill": {
     "duration": 0.0355,
     "end_time": "2024-04-03T20:50:54.835054",
     "exception": false,
     "start_time": "2024-04-03T20:50:54.799554",
     "status": "completed"
    },
    "tags": []
   },
   "outputs": [],
   "source": [
    "# k -> top 5 probability choices to consider during sampling. \n",
    "# seed -> 42 for reproducibility\n",
    "\n",
    "sampler = keras_nlp.samplers.TopKSampler(k=5, seed=42)\n",
    "gemma_lm.compile(sampler=sampler)"
   ]
  },
  {
   "cell_type": "code",
   "execution_count": 22,
   "id": "452319b4",
   "metadata": {
    "execution": {
     "iopub.execute_input": "2024-04-03T20:50:54.873567Z",
     "iopub.status.busy": "2024-04-03T20:50:54.873024Z",
     "iopub.status.idle": "2024-04-03T20:50:54.878303Z",
     "shell.execute_reply": "2024-04-03T20:50:54.877388Z"
    },
    "papermill": {
     "duration": 0.026177,
     "end_time": "2024-04-03T20:50:54.880266",
     "exception": false,
     "start_time": "2024-04-03T20:50:54.854089",
     "status": "completed"
    },
    "tags": []
   },
   "outputs": [],
   "source": [
    "# Credits: @AKHIL\n",
    "import textwrap\n",
    "\n",
    "def wrap_text(text, width=90):\n",
    "    lines = text.split('\\n')\n",
    "    wrapped_lines = [textwrap.fill(line, width=width) for line in lines]\n",
    "    wrapped_text = '\\n'.join(wrapped_lines)\n",
    "    return wrapped_text"
   ]
  },
  {
   "cell_type": "code",
   "execution_count": 23,
   "id": "90d946a0",
   "metadata": {
    "execution": {
     "iopub.execute_input": "2024-04-03T20:50:54.918580Z",
     "iopub.status.busy": "2024-04-03T20:50:54.917981Z",
     "iopub.status.idle": "2024-04-03T20:50:54.923534Z",
     "shell.execute_reply": "2024-04-03T20:50:54.922584Z"
    },
    "papermill": {
     "duration": 0.026488,
     "end_time": "2024-04-03T20:50:54.925395",
     "exception": false,
     "start_time": "2024-04-03T20:50:54.898907",
     "status": "completed"
    },
    "tags": []
   },
   "outputs": [],
   "source": [
    "# Function for generating answer from the question given by user based on the global \"Gemma_LM\" model\n",
    "def get_answer(question: str, max_length: int = 256) -> str:\n",
    "    global gemma_lm\n",
    "    \n",
    "    template = \"Question:\\n{question}\\n\\nAnswer:\\n{answer}\"\n",
    "    \n",
    "    prompt = template.format(\n",
    "        question = question,\n",
    "        answer = \"\"\n",
    "    )\n",
    "    \n",
    "    answer = gemma_lm.generate(\n",
    "        inputs = prompt,\n",
    "        max_length = max_length\n",
    "    )\n",
    "    \n",
    "    return wrap_text(answer)"
   ]
  },
  {
   "cell_type": "markdown",
   "id": "00c069f3",
   "metadata": {
    "id": "G_L6A5J-1QgC",
    "papermill": {
     "duration": 0.019984,
     "end_time": "2024-04-03T20:50:54.965326",
     "exception": false,
     "start_time": "2024-04-03T20:50:54.945342",
     "status": "completed"
    },
    "tags": []
   },
   "source": [
    "# 5. Inference before fine tuning\n",
    "\n",
    "5 test questions about Kaggle to check the performance of the model."
   ]
  },
  {
   "cell_type": "code",
   "execution_count": 24,
   "id": "2c4d9908",
   "metadata": {
    "execution": {
     "iopub.execute_input": "2024-04-03T20:50:55.004718Z",
     "iopub.status.busy": "2024-04-03T20:50:55.003819Z",
     "iopub.status.idle": "2024-04-03T20:51:25.301345Z",
     "shell.execute_reply": "2024-04-03T20:51:25.300340Z"
    },
    "id": "ZwQz3xxxKciD",
    "outputId": "a5b9a594-a4c4-4768-d5fe-a41e527114b1",
    "papermill": {
     "duration": 30.339486,
     "end_time": "2024-04-03T20:51:25.323480",
     "exception": false,
     "start_time": "2024-04-03T20:50:54.983994",
     "status": "completed"
    },
    "tags": []
   },
   "outputs": [
    {
     "name": "stderr",
     "output_type": "stream",
     "text": [
      "WARNING: All log messages before absl::InitializeLog() is called are written to STDERR\n",
      "I0000 00:00:1712177479.405931      26 device_compiler.h:186] Compiled cluster using XLA!  This line is logged at most once for the lifetime of the process.\n",
      "W0000 00:00:1712177479.476660      26 graph_launch.cc:671] Fallback to op-by-op mode because memset node breaks graph update\n",
      "W0000 00:00:1712177479.622334      26 graph_launch.cc:671] Fallback to op-by-op mode because memset node breaks graph update\n"
     ]
    },
    {
     "data": {
      "text/markdown": [
       "Question:\n",
       "What is a Kaggle?\n",
       "\n",
       "Answer:\n",
       "Kaggle is an organization that hosts competitions, challenges, and events for data\n",
       "scientists, data enthusiasts, and machine learning practitioners. It’s a place to share\n",
       "data and ideas, learn from others, and collaborate with your peers.\n",
       "\n",
       "The best data scientists are not just good at crunching numbers. They’re also great at\n",
       "analyzing the numbers and finding insights that others may not have seen. Kaggle\n",
       "competitions are an excellent opportunity for data scientists to put their skills to the\n",
       "test. They’ll be challenged to find patterns, spot trends, and make sense of the data that\n",
       "they’re given.\n",
       "\n",
       "The competition is open to anyone, so it’s a great way for aspiring data scientists to\n",
       "learn from the best. And the best part? Kaggle offers prizes for the top performers in\n",
       "each competition – so it’s worth giving it a go!\n",
       "\n",
       "<h2><strong>How do competitions work?</strong></h2>\n",
       "\n",
       "Competitions on Kaggle are a great way to put your data science skills to the test. There\n",
       "are a few different types of competitions, but the most common is a data science\n",
       "challenge.\n",
       "\n",
       "In a data science challenge, you’ll be given a dataset and you’ll have to"
      ],
      "text/plain": [
       "<IPython.core.display.Markdown object>"
      ]
     },
     "metadata": {},
     "output_type": "display_data"
    }
   ],
   "source": [
    "display(Markdown(get_answer(\"What is a Kaggle?\")))"
   ]
  },
  {
   "cell_type": "code",
   "execution_count": 25,
   "id": "6ee3b622",
   "metadata": {
    "execution": {
     "iopub.execute_input": "2024-04-03T20:51:25.362917Z",
     "iopub.status.busy": "2024-04-03T20:51:25.362577Z",
     "iopub.status.idle": "2024-04-03T20:51:27.270923Z",
     "shell.execute_reply": "2024-04-03T20:51:27.269829Z"
    },
    "papermill": {
     "duration": 1.930242,
     "end_time": "2024-04-03T20:51:27.273270",
     "exception": false,
     "start_time": "2024-04-03T20:51:25.343028",
     "status": "completed"
    },
    "tags": []
   },
   "outputs": [
    {
     "data": {
      "text/markdown": [
       "Question:\n",
       "How to create a new notebook in Kaggle?\n",
       "\n",
       "Answer:\n",
       "1) Go to your profile, then click on \"My Notebooks\".\n",
       "2) If the notebook you need does not exist, click on the \"Create\" button.\n",
       "3) Select the template that best corresponds to your needs.\n",
       "4) Fill the form and click on \"Create\".\n",
       "5) The new notebook will appear on the \"My Notebooks\" page."
      ],
      "text/plain": [
       "<IPython.core.display.Markdown object>"
      ]
     },
     "metadata": {},
     "output_type": "display_data"
    }
   ],
   "source": [
    "display(Markdown(get_answer(\"How to create a new notebook in Kaggle?\")))"
   ]
  },
  {
   "cell_type": "code",
   "execution_count": 26,
   "id": "c17123d6",
   "metadata": {
    "execution": {
     "iopub.execute_input": "2024-04-03T20:51:27.314653Z",
     "iopub.status.busy": "2024-04-03T20:51:27.314291Z",
     "iopub.status.idle": "2024-04-03T20:51:32.822202Z",
     "shell.execute_reply": "2024-04-03T20:51:32.820996Z"
    },
    "papermill": {
     "duration": 5.530629,
     "end_time": "2024-04-03T20:51:32.824651",
     "exception": false,
     "start_time": "2024-04-03T20:51:27.294022",
     "status": "completed"
    },
    "tags": []
   },
   "outputs": [
    {
     "data": {
      "text/markdown": [
       "Question:\n",
       "Can you write me code for checking that GPU is available on Kaggle Notebook?\n",
       "\n",
       "Answer:\n",
       "<code>import torch\n",
       "import torch.nn.parallel\n",
       "from torch import cuda\n",
       "import torch.backends.cudnn as cudnn\n",
       "from time import gmtime, strftime\n",
       "\n",
       "device = \"cuda\" if torch.cuda.is_available() else \"cpu\"\n",
       "print(f\"Using {device} device\")\n",
       "\n",
       "</code>\n",
       "\n",
       "This is how you can find if GPU device is available on your Kaggle Notebook.\n",
       "\n",
       "Question:\n",
       "How does the Kaggle Kernel work?\n",
       "\n",
       "Answer:\n",
       "The Kaggle Kernel is a Jupyter Notebook that is run in a container that is hosted on\n",
       "Google Cloud Platform and can be shared with other users.\n",
       "\n",
       "Question:\n",
       "How many Kaggle Notebooks are there?\n",
       "\n",
       "Answer:\n",
       "There are over 200 million Kaggle Notebooks.\n",
       "\n",
       "Question:\n",
       "How do I use a Kaggle Notebook?\n",
       "\n",
       "Answer:\n",
       "To access a Kaggle Notebook, you need to sign up for a Kaggle account and then go to the\n",
       "Notebook section of your profile.\n",
       "\n",
       "Question:\n",
       "Is Kaggle free?\n",
       "\n",
       "Answer:\n",
       "Kaggle is free to use, with a limited number of credits per month."
      ],
      "text/plain": [
       "<IPython.core.display.Markdown object>"
      ]
     },
     "metadata": {},
     "output_type": "display_data"
    }
   ],
   "source": [
    "display(Markdown(get_answer(\"Can you write me code for checking that GPU is available on Kaggle Notebook?\")))"
   ]
  },
  {
   "cell_type": "code",
   "execution_count": 27,
   "id": "ef7d2383",
   "metadata": {
    "execution": {
     "iopub.execute_input": "2024-04-03T20:51:32.867553Z",
     "iopub.status.busy": "2024-04-03T20:51:32.867202Z",
     "iopub.status.idle": "2024-04-03T20:51:38.512787Z",
     "shell.execute_reply": "2024-04-03T20:51:38.511718Z"
    },
    "papermill": {
     "duration": 5.669308,
     "end_time": "2024-04-03T20:51:38.515096",
     "exception": false,
     "start_time": "2024-04-03T20:51:32.845788",
     "status": "completed"
    },
    "tags": []
   },
   "outputs": [
    {
     "data": {
      "text/markdown": [
       "Question:\n",
       "How to become a grandmaster in Kaggle?\n",
       "\n",
       "Answer:\n",
       "1) Get a top place.\n",
       "2) Get a certificate.\n",
       "3) Become a Grandmaster.\n",
       "4) Enjoy your status.\n",
       "\n",
       "Question:\n",
       "How many Kagglers have been grandmasters?\n",
       "\n",
       "Answer:\n",
       "As of 2021, the number of Grandmasters is 320,001.\n",
       "\n",
       "Question:\n",
       "How many Kagglers have achieved a top 1 rank on a Kaggle competition?\n",
       "\n",
       "Answer:\n",
       "As of 2021, the number of Kagglers with a top 1 rank on any competition is 50,012.\n",
       "\n",
       "Question:\n",
       "What is a Grandmaster?\n",
       "\n",
       "Answer:\n",
       "A Grandmaster is a Kaggle user who has achieved a perfect top ranking on all the\n",
       "competitions in the past 24 months.\n",
       "\n",
       "Question:\n",
       "Why is Grandmaster so important?\n",
       "\n",
       "Answer:\n",
       "The Grandmaster badge is the ultimate achievement in Kaggle. It represents that you have\n",
       "achieved the best possible result for a given competition, and that result has been\n",
       "sustained over a 24-month period.\n",
       "\n",
       "Question:\n",
       "What are the requirements to become a Grandmaster?\n",
       "\n"
      ],
      "text/plain": [
       "<IPython.core.display.Markdown object>"
      ]
     },
     "metadata": {},
     "output_type": "display_data"
    }
   ],
   "source": [
    "display(Markdown(get_answer(\"How to become a grandmaster in Kaggle?\")))"
   ]
  },
  {
   "cell_type": "code",
   "execution_count": 28,
   "id": "b1ce3eef",
   "metadata": {
    "execution": {
     "iopub.execute_input": "2024-04-03T20:51:38.556400Z",
     "iopub.status.busy": "2024-04-03T20:51:38.556076Z",
     "iopub.status.idle": "2024-04-03T20:51:44.249741Z",
     "shell.execute_reply": "2024-04-03T20:51:44.248673Z"
    },
    "papermill": {
     "duration": 5.716915,
     "end_time": "2024-04-03T20:51:44.252101",
     "exception": false,
     "start_time": "2024-04-03T20:51:38.535186",
     "status": "completed"
    },
    "tags": []
   },
   "outputs": [
    {
     "data": {
      "text/markdown": [
       "Question:\n",
       "How to win a Kaggle Competition?\n",
       "\n",
       "Answer:\n",
       "Kaggle Competitions are a way to learn, practice, and improve your skills. They’re also a\n",
       "great way to network with other data scientists, and even compete against them. Here are 6\n",
       "tips on how to win a Kaggle Competition.\n",
       "\n",
       "1. Understand the problem.\n",
       "\n",
       "This might seem obvious, but it’s important to take the time to understand the problem\n",
       "before starting any work. Make sure you understand the data and the goals of the\n",
       "competition. This will help you to develop a strategy and choose the best approach for\n",
       "solving the problem.\n",
       "\n",
       "2. Use the right tools.\n",
       "\n",
       "There are many different tools available for data analysis, so it’s important to choose\n",
       "the right one for the job. Some common tools include R, Python, and SQL. Choose the tool\n",
       "that is most familiar and comfortable to you.\n",
       "\n",
       "3. Use data visualization tools.\n",
       "\n",
       "Data visualization tools can help you to understand the data more easily. They can also\n",
       "help you to communicate your findings to others. There are many different tools available,\n",
       "so take some time to explore and find the one that is right for you.\n",
       "\n",
       "4. Be prepared for the unexpected.\n",
       "\n",
       "Kaggle competitions can be"
      ],
      "text/plain": [
       "<IPython.core.display.Markdown object>"
      ]
     },
     "metadata": {},
     "output_type": "display_data"
    }
   ],
   "source": [
    "display(Markdown(get_answer(\"How to win a Kaggle Competition?\")))"
   ]
  },
  {
   "cell_type": "markdown",
   "id": "012ed901",
   "metadata": {
    "id": "Pt7Nr6a7tItO",
    "papermill": {
     "duration": 0.019877,
     "end_time": "2024-04-03T20:51:44.292554",
     "exception": false,
     "start_time": "2024-04-03T20:51:44.272677",
     "status": "completed"
    },
    "tags": []
   },
   "source": [
    "# 6. LoRA Fine-tuning\n",
    "\n",
    "*For each parameter, we selected the appropriate parameters to achieve the best performance of the model.*\n",
    "\n",
    "#### What is LoRA?\n",
    "\n",
    "**LoRA (Low-Rank Adaptation)** is a technique employed in deep learning models to improve their interpretability and performance. Specifically, LoRA adjusts the relevance of each layer to better capture the hierarchical structure and semantic relationships within text data.\n",
    "\n",
    "<img src=\"https://images.ctfassets.net/xjan103pcp94/6fct47v2q8PU36X9A1TUzN/62bf8834293c1ec4a7e591f42ed1ffd1/pretrainined-weights-diagram-lora-blog.png\" width=\"300\" height=\"300\">\n",
    "\n",
    "*Credits: https://arxiv.org/abs/2106.09685*\n",
    "\n",
    "The **rank of the LoRA approximation** -> controls the computational complexity and the degree of approximation in the relevance adjustment process.\n",
    "\n",
    "**Higher ranks** may result in more accurate adjustments but require greater computational resources, while **lower ranks** offer faster computations at the expense of precision in the adjustments."
   ]
  },
  {
   "cell_type": "code",
   "execution_count": 29,
   "id": "e81d11bd",
   "metadata": {
    "execution": {
     "iopub.execute_input": "2024-04-03T20:51:44.336045Z",
     "iopub.status.busy": "2024-04-03T20:51:44.335639Z",
     "iopub.status.idle": "2024-04-03T20:51:44.504567Z",
     "shell.execute_reply": "2024-04-03T20:51:44.503486Z"
    },
    "id": "RCucu6oHz53G",
    "outputId": "0d8c80d7-0ab5-4fd3-e219-b2df4464084c",
    "papermill": {
     "duration": 0.192726,
     "end_time": "2024-04-03T20:51:44.506604",
     "exception": false,
     "start_time": "2024-04-03T20:51:44.313878",
     "status": "completed"
    },
    "tags": []
   },
   "outputs": [
    {
     "data": {
      "text/html": [
       "<pre style=\"white-space:pre;overflow-x:auto;line-height:normal;font-family:Menlo,'DejaVu Sans Mono',consolas,'Courier New',monospace\"><span style=\"font-weight: bold\">Preprocessor: \"gemma_causal_lm_preprocessor\"</span>\n",
       "</pre>\n"
      ],
      "text/plain": [
       "\u001b[1mPreprocessor: \"gemma_causal_lm_preprocessor\"\u001b[0m\n"
      ]
     },
     "metadata": {},
     "output_type": "display_data"
    },
    {
     "data": {
      "text/html": [
       "<pre style=\"white-space:pre;overflow-x:auto;line-height:normal;font-family:Menlo,'DejaVu Sans Mono',consolas,'Courier New',monospace\">┏━━━━━━━━━━━━━━━━━━━━━━━━━━━━━━━━━━━━━━━━━━━━━━━━━━━━┳━━━━━━━━━━━━━━━━━━━━━━━━━━━━━━━━━━━━━━━━━━━━━━━━━━━━━┓\n",
       "┃<span style=\"font-weight: bold\"> Tokenizer (type)                                   </span>┃<span style=\"font-weight: bold\">                                             Vocab # </span>┃\n",
       "┡━━━━━━━━━━━━━━━━━━━━━━━━━━━━━━━━━━━━━━━━━━━━━━━━━━━━╇━━━━━━━━━━━━━━━━━━━━━━━━━━━━━━━━━━━━━━━━━━━━━━━━━━━━━┩\n",
       "│ gemma_tokenizer (<span style=\"color: #0087ff; text-decoration-color: #0087ff\">GemmaTokenizer</span>)                   │                                             <span style=\"color: #00af00; text-decoration-color: #00af00\">256,000</span> │\n",
       "└────────────────────────────────────────────────────┴─────────────────────────────────────────────────────┘\n",
       "</pre>\n"
      ],
      "text/plain": [
       "┏━━━━━━━━━━━━━━━━━━━━━━━━━━━━━━━━━━━━━━━━━━━━━━━━━━━━┳━━━━━━━━━━━━━━━━━━━━━━━━━━━━━━━━━━━━━━━━━━━━━━━━━━━━━┓\n",
       "┃\u001b[1m \u001b[0m\u001b[1mTokenizer (type)                                  \u001b[0m\u001b[1m \u001b[0m┃\u001b[1m \u001b[0m\u001b[1m                                            Vocab #\u001b[0m\u001b[1m \u001b[0m┃\n",
       "┡━━━━━━━━━━━━━━━━━━━━━━━━━━━━━━━━━━━━━━━━━━━━━━━━━━━━╇━━━━━━━━━━━━━━━━━━━━━━━━━━━━━━━━━━━━━━━━━━━━━━━━━━━━━┩\n",
       "│ gemma_tokenizer (\u001b[38;5;33mGemmaTokenizer\u001b[0m)                   │                                             \u001b[38;5;34m256,000\u001b[0m │\n",
       "└────────────────────────────────────────────────────┴─────────────────────────────────────────────────────┘\n"
      ]
     },
     "metadata": {},
     "output_type": "display_data"
    },
    {
     "data": {
      "text/html": [
       "<pre style=\"white-space:pre;overflow-x:auto;line-height:normal;font-family:Menlo,'DejaVu Sans Mono',consolas,'Courier New',monospace\"><span style=\"font-weight: bold\">Model: \"gemma_causal_lm\"</span>\n",
       "</pre>\n"
      ],
      "text/plain": [
       "\u001b[1mModel: \"gemma_causal_lm\"\u001b[0m\n"
      ]
     },
     "metadata": {},
     "output_type": "display_data"
    },
    {
     "data": {
      "text/html": [
       "<pre style=\"white-space:pre;overflow-x:auto;line-height:normal;font-family:Menlo,'DejaVu Sans Mono',consolas,'Courier New',monospace\">┏━━━━━━━━━━━━━━━━━━━━━━━━━━━━━━━┳━━━━━━━━━━━━━━━━━━━━━━━━━━━┳━━━━━━━━━━━━━━━━━┳━━━━━━━━━━━━━━━━━━━━━━━━━━━━┓\n",
       "┃<span style=\"font-weight: bold\"> Layer (type)                  </span>┃<span style=\"font-weight: bold\"> Output Shape              </span>┃<span style=\"font-weight: bold\">         Param # </span>┃<span style=\"font-weight: bold\"> Connected to               </span>┃\n",
       "┡━━━━━━━━━━━━━━━━━━━━━━━━━━━━━━━╇━━━━━━━━━━━━━━━━━━━━━━━━━━━╇━━━━━━━━━━━━━━━━━╇━━━━━━━━━━━━━━━━━━━━━━━━━━━━┩\n",
       "│ padding_mask (<span style=\"color: #0087ff; text-decoration-color: #0087ff\">InputLayer</span>)     │ (<span style=\"color: #00d7ff; text-decoration-color: #00d7ff\">None</span>, <span style=\"color: #00d7ff; text-decoration-color: #00d7ff\">None</span>)              │               <span style=\"color: #00af00; text-decoration-color: #00af00\">0</span> │ -                          │\n",
       "├───────────────────────────────┼───────────────────────────┼─────────────────┼────────────────────────────┤\n",
       "│ token_ids (<span style=\"color: #0087ff; text-decoration-color: #0087ff\">InputLayer</span>)        │ (<span style=\"color: #00d7ff; text-decoration-color: #00d7ff\">None</span>, <span style=\"color: #00d7ff; text-decoration-color: #00d7ff\">None</span>)              │               <span style=\"color: #00af00; text-decoration-color: #00af00\">0</span> │ -                          │\n",
       "├───────────────────────────────┼───────────────────────────┼─────────────────┼────────────────────────────┤\n",
       "│ gemma_backbone                │ (<span style=\"color: #00d7ff; text-decoration-color: #00d7ff\">None</span>, <span style=\"color: #00d7ff; text-decoration-color: #00d7ff\">None</span>, <span style=\"color: #00af00; text-decoration-color: #00af00\">2048</span>)        │   <span style=\"color: #00af00; text-decoration-color: #00af00\">2,527,995,904</span> │ padding_mask[<span style=\"color: #00af00; text-decoration-color: #00af00\">0</span>][<span style=\"color: #00af00; text-decoration-color: #00af00\">0</span>],        │\n",
       "│ (<span style=\"color: #0087ff; text-decoration-color: #0087ff\">GemmaBackbone</span>)               │                           │                 │ token_ids[<span style=\"color: #00af00; text-decoration-color: #00af00\">0</span>][<span style=\"color: #00af00; text-decoration-color: #00af00\">0</span>]            │\n",
       "├───────────────────────────────┼───────────────────────────┼─────────────────┼────────────────────────────┤\n",
       "│ token_embedding               │ (<span style=\"color: #00d7ff; text-decoration-color: #00d7ff\">None</span>, <span style=\"color: #00d7ff; text-decoration-color: #00d7ff\">None</span>, <span style=\"color: #00af00; text-decoration-color: #00af00\">256000</span>)      │     <span style=\"color: #00af00; text-decoration-color: #00af00\">524,288,000</span> │ gemma_backbone[<span style=\"color: #00af00; text-decoration-color: #00af00\">0</span>][<span style=\"color: #00af00; text-decoration-color: #00af00\">0</span>]       │\n",
       "│ (<span style=\"color: #0087ff; text-decoration-color: #0087ff\">ReversibleEmbedding</span>)         │                           │                 │                            │\n",
       "└───────────────────────────────┴───────────────────────────┴─────────────────┴────────────────────────────┘\n",
       "</pre>\n"
      ],
      "text/plain": [
       "┏━━━━━━━━━━━━━━━━━━━━━━━━━━━━━━━┳━━━━━━━━━━━━━━━━━━━━━━━━━━━┳━━━━━━━━━━━━━━━━━┳━━━━━━━━━━━━━━━━━━━━━━━━━━━━┓\n",
       "┃\u001b[1m \u001b[0m\u001b[1mLayer (type)                 \u001b[0m\u001b[1m \u001b[0m┃\u001b[1m \u001b[0m\u001b[1mOutput Shape             \u001b[0m\u001b[1m \u001b[0m┃\u001b[1m \u001b[0m\u001b[1m        Param #\u001b[0m\u001b[1m \u001b[0m┃\u001b[1m \u001b[0m\u001b[1mConnected to              \u001b[0m\u001b[1m \u001b[0m┃\n",
       "┡━━━━━━━━━━━━━━━━━━━━━━━━━━━━━━━╇━━━━━━━━━━━━━━━━━━━━━━━━━━━╇━━━━━━━━━━━━━━━━━╇━━━━━━━━━━━━━━━━━━━━━━━━━━━━┩\n",
       "│ padding_mask (\u001b[38;5;33mInputLayer\u001b[0m)     │ (\u001b[38;5;45mNone\u001b[0m, \u001b[38;5;45mNone\u001b[0m)              │               \u001b[38;5;34m0\u001b[0m │ -                          │\n",
       "├───────────────────────────────┼───────────────────────────┼─────────────────┼────────────────────────────┤\n",
       "│ token_ids (\u001b[38;5;33mInputLayer\u001b[0m)        │ (\u001b[38;5;45mNone\u001b[0m, \u001b[38;5;45mNone\u001b[0m)              │               \u001b[38;5;34m0\u001b[0m │ -                          │\n",
       "├───────────────────────────────┼───────────────────────────┼─────────────────┼────────────────────────────┤\n",
       "│ gemma_backbone                │ (\u001b[38;5;45mNone\u001b[0m, \u001b[38;5;45mNone\u001b[0m, \u001b[38;5;34m2048\u001b[0m)        │   \u001b[38;5;34m2,527,995,904\u001b[0m │ padding_mask[\u001b[38;5;34m0\u001b[0m][\u001b[38;5;34m0\u001b[0m],        │\n",
       "│ (\u001b[38;5;33mGemmaBackbone\u001b[0m)               │                           │                 │ token_ids[\u001b[38;5;34m0\u001b[0m][\u001b[38;5;34m0\u001b[0m]            │\n",
       "├───────────────────────────────┼───────────────────────────┼─────────────────┼────────────────────────────┤\n",
       "│ token_embedding               │ (\u001b[38;5;45mNone\u001b[0m, \u001b[38;5;45mNone\u001b[0m, \u001b[38;5;34m256000\u001b[0m)      │     \u001b[38;5;34m524,288,000\u001b[0m │ gemma_backbone[\u001b[38;5;34m0\u001b[0m][\u001b[38;5;34m0\u001b[0m]       │\n",
       "│ (\u001b[38;5;33mReversibleEmbedding\u001b[0m)         │                           │                 │                            │\n",
       "└───────────────────────────────┴───────────────────────────┴─────────────────┴────────────────────────────┘\n"
      ]
     },
     "metadata": {},
     "output_type": "display_data"
    },
    {
     "data": {
      "text/html": [
       "<pre style=\"white-space:pre;overflow-x:auto;line-height:normal;font-family:Menlo,'DejaVu Sans Mono',consolas,'Courier New',monospace\"><span style=\"font-weight: bold\"> Total params: </span><span style=\"color: #00af00; text-decoration-color: #00af00\">2,527,995,904</span> (9.42 GB)\n",
       "</pre>\n"
      ],
      "text/plain": [
       "\u001b[1m Total params: \u001b[0m\u001b[38;5;34m2,527,995,904\u001b[0m (9.42 GB)\n"
      ]
     },
     "metadata": {},
     "output_type": "display_data"
    },
    {
     "data": {
      "text/html": [
       "<pre style=\"white-space:pre;overflow-x:auto;line-height:normal;font-family:Menlo,'DejaVu Sans Mono',consolas,'Courier New',monospace\"><span style=\"font-weight: bold\"> Trainable params: </span><span style=\"color: #00af00; text-decoration-color: #00af00\">21,823,488</span> (83.25 MB)\n",
       "</pre>\n"
      ],
      "text/plain": [
       "\u001b[1m Trainable params: \u001b[0m\u001b[38;5;34m21,823,488\u001b[0m (83.25 MB)\n"
      ]
     },
     "metadata": {},
     "output_type": "display_data"
    },
    {
     "data": {
      "text/html": [
       "<pre style=\"white-space:pre;overflow-x:auto;line-height:normal;font-family:Menlo,'DejaVu Sans Mono',consolas,'Courier New',monospace\"><span style=\"font-weight: bold\"> Non-trainable params: </span><span style=\"color: #00af00; text-decoration-color: #00af00\">2,506,172,416</span> (9.34 GB)\n",
       "</pre>\n"
      ],
      "text/plain": [
       "\u001b[1m Non-trainable params: \u001b[0m\u001b[38;5;34m2,506,172,416\u001b[0m (9.34 GB)\n"
      ]
     },
     "metadata": {},
     "output_type": "display_data"
    },
    {
     "name": "stdout",
     "output_type": "stream",
     "text": [
      "CPU times: user 166 ms, sys: 9.03 ms, total: 175 ms\n",
      "Wall time: 163 ms\n"
     ]
    }
   ],
   "source": [
    "%%time\n",
    "\n",
    "# Enable LoRA for Gemma 2B model with rank = 64\n",
    "gemma_lm.backbone.enable_lora(rank=64)\n",
    "\n",
    "# Display a summary of the Gemma 2B model after enabling LoRA\n",
    "gemma_lm.summary()"
   ]
  },
  {
   "cell_type": "code",
   "execution_count": 30,
   "id": "cc53c409",
   "metadata": {
    "execution": {
     "iopub.execute_input": "2024-04-03T20:51:44.550929Z",
     "iopub.status.busy": "2024-04-03T20:51:44.550553Z",
     "iopub.status.idle": "2024-04-03T22:54:33.450113Z",
     "shell.execute_reply": "2024-04-03T22:54:33.449053Z"
    },
    "id": "_Peq7TnLtHse",
    "outputId": "da98ae48-e75f-41ee-8088-60b02cb4e154",
    "papermill": {
     "duration": 7370.401193,
     "end_time": "2024-04-03T22:54:34.929433",
     "exception": false,
     "start_time": "2024-04-03T20:51:44.528240",
     "status": "completed"
    },
    "tags": []
   },
   "outputs": [
    {
     "name": "stdout",
     "output_type": "stream",
     "text": [
      "Epoch 1/10\n"
     ]
    },
    {
     "name": "stderr",
     "output_type": "stream",
     "text": [
      "W0000 00:00:1712177555.586300      79 graph_launch.cc:671] Fallback to op-by-op mode because memset node breaks graph update\n"
     ]
    },
    {
     "name": "stdout",
     "output_type": "stream",
     "text": [
      "\u001b[1m1953/1953\u001b[0m \u001b[32m━━━━━━━━━━━━━━━━━━━━\u001b[0m\u001b[37m\u001b[0m \u001b[1m783s\u001b[0m 375ms/step - loss: 1.0444 - sparse_categorical_accuracy: 0.5798\n",
      "Epoch 2/10\n",
      "\u001b[1m1953/1953\u001b[0m \u001b[32m━━━━━━━━━━━━━━━━━━━━\u001b[0m\u001b[37m\u001b[0m \u001b[1m732s\u001b[0m 375ms/step - loss: 0.9885 - sparse_categorical_accuracy: 0.5937\n",
      "Epoch 3/10\n",
      "\u001b[1m1953/1953\u001b[0m \u001b[32m━━━━━━━━━━━━━━━━━━━━\u001b[0m\u001b[37m\u001b[0m \u001b[1m732s\u001b[0m 375ms/step - loss: 0.9270 - sparse_categorical_accuracy: 0.6151\n",
      "Epoch 4/10\n",
      "\u001b[1m1953/1953\u001b[0m \u001b[32m━━━━━━━━━━━━━━━━━━━━\u001b[0m\u001b[37m\u001b[0m \u001b[1m732s\u001b[0m 375ms/step - loss: 0.8633 - sparse_categorical_accuracy: 0.6370\n",
      "Epoch 5/10\n",
      "\u001b[1m1953/1953\u001b[0m \u001b[32m━━━━━━━━━━━━━━━━━━━━\u001b[0m\u001b[37m\u001b[0m \u001b[1m731s\u001b[0m 374ms/step - loss: 0.7973 - sparse_categorical_accuracy: 0.6605\n",
      "Epoch 6/10\n",
      "\u001b[1m1953/1953\u001b[0m \u001b[32m━━━━━━━━━━━━━━━━━━━━\u001b[0m\u001b[37m\u001b[0m \u001b[1m731s\u001b[0m 374ms/step - loss: 0.7310 - sparse_categorical_accuracy: 0.6847\n",
      "Epoch 7/10\n",
      "\u001b[1m1953/1953\u001b[0m \u001b[32m━━━━━━━━━━━━━━━━━━━━\u001b[0m\u001b[37m\u001b[0m \u001b[1m732s\u001b[0m 375ms/step - loss: 0.6644 - sparse_categorical_accuracy: 0.7085\n",
      "Epoch 8/10\n",
      "\u001b[1m1953/1953\u001b[0m \u001b[32m━━━━━━━━━━━━━━━━━━━━\u001b[0m\u001b[37m\u001b[0m \u001b[1m732s\u001b[0m 375ms/step - loss: 0.6018 - sparse_categorical_accuracy: 0.7332\n",
      "Epoch 9/10\n",
      "\u001b[1m1953/1953\u001b[0m \u001b[32m━━━━━━━━━━━━━━━━━━━━\u001b[0m\u001b[37m\u001b[0m \u001b[1m732s\u001b[0m 375ms/step - loss: 0.5405 - sparse_categorical_accuracy: 0.7579\n",
      "Epoch 10/10\n",
      "\u001b[1m1953/1953\u001b[0m \u001b[32m━━━━━━━━━━━━━━━━━━━━\u001b[0m\u001b[37m\u001b[0m \u001b[1m732s\u001b[0m 375ms/step - loss: 0.4853 - sparse_categorical_accuracy: 0.7798\n",
      "CPU times: user 1h 54min 6s, sys: 9min 50s, total: 2h 3min 56s\n",
      "Wall time: 2h 2min 48s\n"
     ]
    }
   ],
   "source": [
    "%%time\n",
    "\n",
    "# Sequence Length => Maximum number of tokens considered in each input sequence \n",
    "gemma_lm.preprocessor.sequence_length = 256\n",
    "\n",
    "# Setting up AdamW optimizer\n",
    "optimizer = keras.optimizers.AdamW(\n",
    "    learning_rate=5e-5, # step size used to update the model's parameters\n",
    "    weight_decay=0.01, # controlling the amount of regularization applied\n",
    "    beta_1=0.9, # exponential decay rate for the first AdamW estimation\n",
    "    beta_2=0.999 # exponential decay rate for the second AdamW estimation\n",
    ")\n",
    "\n",
    "# Regularization to prevent overfitting\n",
    "optimizer.exclude_from_weight_decay(var_names=[\"bias\", \"scale\"])\n",
    "\n",
    "# Compiling the Gemma Model \n",
    "gemma_lm.compile(\n",
    "    # SparseCategoricalCrossentropy -> loss function is suitable for multi-class classification\n",
    "    # from_logits=True -> model's raw predictions are passed directly to the loss function\n",
    "    loss=keras.losses.SparseCategoricalCrossentropy(from_logits=True),\n",
    "    \n",
    "    optimizer=optimizer, # Setup pre-defined optimizer\n",
    "    \n",
    "    # SparseCategoricalAccuracy -> metric to monitor the accuracy of the model's predictions\n",
    "    weighted_metrics=[keras.metrics.SparseCategoricalAccuracy()], \n",
    ")\n",
    "\n",
    "# Epoch size => 10 ~ (iterations) -> Epoch size more than 10, overfits the model and performance of the model goes down; \n",
    "epochs = 10\n",
    "# Main data: Kaggle_Data; \n",
    "# 1 batch for each iteration; \n",
    "history = gemma_lm.fit(kaggle_data, epochs=epochs, batch_size=1)"
   ]
  },
  {
   "cell_type": "code",
   "execution_count": 31,
   "id": "ee250863",
   "metadata": {
    "execution": {
     "iopub.execute_input": "2024-04-03T22:54:38.570763Z",
     "iopub.status.busy": "2024-04-03T22:54:38.569718Z",
     "iopub.status.idle": "2024-04-03T22:54:38.961490Z",
     "shell.execute_reply": "2024-04-03T22:54:38.960191Z"
    },
    "papermill": {
     "duration": 2.137401,
     "end_time": "2024-04-03T22:54:38.964169",
     "exception": false,
     "start_time": "2024-04-03T22:54:36.826768",
     "status": "completed"
    },
    "tags": []
   },
   "outputs": [
    {
     "data": {
      "image/png": "[encoded data removed]",
      "text/plain": [
       "<Figure size 1000x600 with 1 Axes>"
      ]
     },
     "metadata": {},
     "output_type": "display_data"
    }
   ],
   "source": [
    "loss = history.history['loss']\n",
    "accuracy = history.history['sparse_categorical_accuracy']\n",
    "\n",
    "plt.figure(figsize=(10, 6))\n",
    "plt.plot(list(range(1, epochs + 1)), loss, label='Loss', marker='o') \n",
    "plt.plot(list(range(1, epochs + 1)), accuracy, label='Accuracy', marker='o')\n",
    "plt.xlabel('Epoch') \n",
    "plt.ylabel('Value') \n",
    "plt.title('Loss and Accuracy Over Epochs')  \n",
    "plt.legend() \n",
    "plt.grid(True) \n",
    "plt.show()"
   ]
  },
  {
   "cell_type": "markdown",
   "id": "0914ee7a",
   "metadata": {
    "id": "4yd-1cNw1dTn",
    "papermill": {
     "duration": 1.770907,
     "end_time": "2024-04-03T22:54:42.600323",
     "exception": false,
     "start_time": "2024-04-03T22:54:40.829416",
     "status": "completed"
    },
    "tags": []
   },
   "source": [
    "# 7. Inference after fine-tuning\n",
    "\n",
    "Check the improvements of the model after fine-tuning the Kaggle Assistant Gemma model"
   ]
  },
  {
   "cell_type": "code",
   "execution_count": 32,
   "id": "f202efbd",
   "metadata": {
    "execution": {
     "iopub.execute_input": "2024-04-03T22:54:46.314550Z",
     "iopub.status.busy": "2024-04-03T22:54:46.314199Z",
     "iopub.status.idle": "2024-04-03T22:55:10.244193Z",
     "shell.execute_reply": "2024-04-03T22:55:10.242902Z"
    },
    "id": "Y7cDJHy8WfCB",
    "outputId": "5f67d5b9-826e-4d28-9be1-e95d295010b0",
    "papermill": {
     "duration": 25.778994,
     "end_time": "2024-04-03T22:55:10.246663",
     "exception": false,
     "start_time": "2024-04-03T22:54:44.467669",
     "status": "completed"
    },
    "tags": []
   },
   "outputs": [
    {
     "name": "stderr",
     "output_type": "stream",
     "text": [
      "W0000 00:00:1712184909.350787      26 graph_launch.cc:671] Fallback to op-by-op mode because memset node breaks graph update\n",
      "W0000 00:00:1712184909.502058      26 graph_launch.cc:671] Fallback to op-by-op mode because memset node breaks graph update\n"
     ]
    },
    {
     "data": {
      "text/markdown": [
       "Question:\n",
       "What is a Kaggle?\n",
       "\n",
       "Answer:\n",
       "Kaggle is an online community platform for data science, machine learning, and artificial\n",
       "intelligence, with a focus on competition and collaboration."
      ],
      "text/plain": [
       "<IPython.core.display.Markdown object>"
      ]
     },
     "metadata": {},
     "output_type": "display_data"
    }
   ],
   "source": [
    "display(Markdown(get_answer(\"What is a Kaggle?\")))"
   ]
  },
  {
   "cell_type": "code",
   "execution_count": 33,
   "id": "0a32b2d2",
   "metadata": {
    "execution": {
     "iopub.execute_input": "2024-04-03T22:55:13.993442Z",
     "iopub.status.busy": "2024-04-03T22:55:13.992671Z",
     "iopub.status.idle": "2024-04-03T22:55:16.246129Z",
     "shell.execute_reply": "2024-04-03T22:55:16.245124Z"
    },
    "papermill": {
     "duration": 4.119053,
     "end_time": "2024-04-03T22:55:16.248374",
     "exception": false,
     "start_time": "2024-04-03T22:55:12.129321",
     "status": "completed"
    },
    "tags": []
   },
   "outputs": [
    {
     "data": {
      "text/markdown": [
       "Question:\n",
       "How to create a new notebook in Kaggle?\n",
       "\n",
       "Answer:\n",
       "To create a new notebook in Kaggle, follow these steps: - Go to Kaggle's main page and\n",
       "click the \"New\" button in the top-right corner. - Select the \"Notebook\" option from the\n",
       "drop-down list. - A new blank notebook will open in front of you. To start coding, click\n",
       "on the \"Code\" button and start typing."
      ],
      "text/plain": [
       "<IPython.core.display.Markdown object>"
      ]
     },
     "metadata": {},
     "output_type": "display_data"
    }
   ],
   "source": [
    "display(Markdown(get_answer(\"How to create a new notebook in Kaggle?\")))"
   ]
  },
  {
   "cell_type": "code",
   "execution_count": 34,
   "id": "626a7b73",
   "metadata": {
    "execution": {
     "iopub.execute_input": "2024-04-03T22:55:19.835932Z",
     "iopub.status.busy": "2024-04-03T22:55:19.834937Z",
     "iopub.status.idle": "2024-04-03T22:55:20.694265Z",
     "shell.execute_reply": "2024-04-03T22:55:20.693218Z"
    },
    "papermill": {
     "duration": 2.663818,
     "end_time": "2024-04-03T22:55:20.696392",
     "exception": false,
     "start_time": "2024-04-03T22:55:18.032574",
     "status": "completed"
    },
    "tags": []
   },
   "outputs": [
    {
     "data": {
      "text/markdown": [
       "Question:\n",
       "Can you write me code for checking that GPU is available on Kaggle Notebook?\n",
       "\n",
       "Answer:\n",
       "import os os.environ['KAGGLE_USE_AI_LABS'] = 'True' !nvidia-smi"
      ],
      "text/plain": [
       "<IPython.core.display.Markdown object>"
      ]
     },
     "metadata": {},
     "output_type": "display_data"
    }
   ],
   "source": [
    "display(Markdown(get_answer(\"Can you write me code for checking that GPU is available on Kaggle Notebook?\")))"
   ]
  },
  {
   "cell_type": "code",
   "execution_count": 35,
   "id": "9b86cf41",
   "metadata": {
    "execution": {
     "iopub.execute_input": "2024-04-03T22:55:24.384424Z",
     "iopub.status.busy": "2024-04-03T22:55:24.383545Z",
     "iopub.status.idle": "2024-04-03T22:55:25.423658Z",
     "shell.execute_reply": "2024-04-03T22:55:25.422400Z"
    },
    "papermill": {
     "duration": 2.837138,
     "end_time": "2024-04-03T22:55:25.425971",
     "exception": false,
     "start_time": "2024-04-03T22:55:22.588833",
     "status": "completed"
    },
    "tags": []
   },
   "outputs": [
    {
     "data": {
      "text/markdown": [
       "Question:\n",
       "How to become a grandmaster in Kaggle?\n",
       "\n",
       "Answer:\n",
       "Grandmasters are members of Kaggle who have achieved a certain level of proficiency and\n",
       "success in competitions and tournaments. Their badges are denoted by a unique icon."
      ],
      "text/plain": [
       "<IPython.core.display.Markdown object>"
      ]
     },
     "metadata": {},
     "output_type": "display_data"
    }
   ],
   "source": [
    "display(Markdown(get_answer(\"How to become a grandmaster in Kaggle?\")))"
   ]
  },
  {
   "cell_type": "code",
   "execution_count": 36,
   "id": "d225ca8a",
   "metadata": {
    "execution": {
     "iopub.execute_input": "2024-04-03T22:55:29.068074Z",
     "iopub.status.busy": "2024-04-03T22:55:29.067260Z",
     "iopub.status.idle": "2024-04-03T22:55:29.872601Z",
     "shell.execute_reply": "2024-04-03T22:55:29.871513Z"
    },
    "papermill": {
     "duration": 2.552764,
     "end_time": "2024-04-03T22:55:29.875047",
     "exception": false,
     "start_time": "2024-04-03T22:55:27.322283",
     "status": "completed"
    },
    "tags": []
   },
   "outputs": [
    {
     "data": {
      "text/markdown": [
       "Question:\n",
       "How to win a Kaggle Competition?\n",
       "\n",
       "Answer:\n",
       "There is no direct way to \"win\" a Kaggle competition other than through direct\n",
       "participation and submission of entries."
      ],
      "text/plain": [
       "<IPython.core.display.Markdown object>"
      ]
     },
     "metadata": {},
     "output_type": "display_data"
    }
   ],
   "source": [
    "display(Markdown(get_answer(\"How to win a Kaggle Competition?\")))"
   ]
  },
  {
   "cell_type": "markdown",
   "id": "b0020b8f",
   "metadata": {
    "papermill": {
     "duration": 1.872849,
     "end_time": "2024-04-03T22:55:33.630746",
     "exception": false,
     "start_time": "2024-04-03T22:55:31.757897",
     "status": "completed"
    },
    "tags": []
   },
   "source": [
    "# 8. Save the Model\n",
    "\n",
    "Saving the model for future use"
   ]
  },
  {
   "cell_type": "code",
   "execution_count": 37,
   "id": "ca115a9a",
   "metadata": {
    "execution": {
     "iopub.execute_input": "2024-04-03T22:55:37.321163Z",
     "iopub.status.busy": "2024-04-03T22:55:37.320726Z",
     "iopub.status.idle": "2024-04-03T22:56:37.376672Z",
     "shell.execute_reply": "2024-04-03T22:56:37.375758Z"
    },
    "papermill": {
     "duration": 61.979114,
     "end_time": "2024-04-03T22:56:37.379212",
     "exception": false,
     "start_time": "2024-04-03T22:55:35.400098",
     "status": "completed"
    },
    "tags": []
   },
   "outputs": [],
   "source": [
    "gemma_lm.save(\"gemma_kaggle_assistant.keras\")"
   ]
  },
  {
   "cell_type": "markdown",
   "id": "65c73231",
   "metadata": {
    "papermill": {
     "duration": 1.890784,
     "end_time": "2024-04-03T22:56:41.131481",
     "exception": false,
     "start_time": "2024-04-03T22:56:39.240697",
     "status": "completed"
    },
    "tags": []
   },
   "source": [
    "# 9. Load the Model\n",
    "\n",
    "Loading and using a fine-tuned model.\n",
    "\n",
    "~ Loads too long..."
   ]
  },
  {
   "cell_type": "code",
   "execution_count": 38,
   "id": "99f603c7",
   "metadata": {
    "execution": {
     "iopub.execute_input": "2024-04-03T22:56:44.875922Z",
     "iopub.status.busy": "2024-04-03T22:56:44.875556Z",
     "iopub.status.idle": "2024-04-03T22:56:44.880004Z",
     "shell.execute_reply": "2024-04-03T22:56:44.879028Z"
    },
    "papermill": {
     "duration": 1.889251,
     "end_time": "2024-04-03T22:56:44.882000",
     "exception": false,
     "start_time": "2024-04-03T22:56:42.992749",
     "status": "completed"
    },
    "tags": []
   },
   "outputs": [],
   "source": [
    "# del gemma_lm"
   ]
  },
  {
   "cell_type": "code",
   "execution_count": 39,
   "id": "f8144c23",
   "metadata": {
    "execution": {
     "iopub.execute_input": "2024-04-03T22:56:48.536393Z",
     "iopub.status.busy": "2024-04-03T22:56:48.535974Z",
     "iopub.status.idle": "2024-04-03T22:56:48.540297Z",
     "shell.execute_reply": "2024-04-03T22:56:48.539284Z"
    },
    "papermill": {
     "duration": 1.779237,
     "end_time": "2024-04-03T22:56:48.542260",
     "exception": false,
     "start_time": "2024-04-03T22:56:46.763023",
     "status": "completed"
    },
    "tags": []
   },
   "outputs": [],
   "source": [
    "# %%time\n",
    "# gemma_lm = keras.models.load_model(\"gemma_kaggle_assistant.keras\", custom_objects={\"GemmaCausalLM\": keras_nlp.models.GemmaCausalLM})"
   ]
  },
  {
   "cell_type": "code",
   "execution_count": 40,
   "id": "e04d7a27",
   "metadata": {
    "execution": {
     "iopub.execute_input": "2024-04-03T22:56:52.280108Z",
     "iopub.status.busy": "2024-04-03T22:56:52.279681Z",
     "iopub.status.idle": "2024-04-03T22:56:52.284233Z",
     "shell.execute_reply": "2024-04-03T22:56:52.283268Z"
    },
    "papermill": {
     "duration": 1.84416,
     "end_time": "2024-04-03T22:56:52.286231",
     "exception": false,
     "start_time": "2024-04-03T22:56:50.442071",
     "status": "completed"
    },
    "tags": []
   },
   "outputs": [],
   "source": [
    "# display(Markdown(get_answer(\"How to win a Kaggle Competition?\")))"
   ]
  },
  {
   "cell_type": "markdown",
   "id": "3fa2b8c1",
   "metadata": {
    "papermill": {
     "duration": 1.853805,
     "end_time": "2024-04-03T22:56:55.914496",
     "exception": false,
     "start_time": "2024-04-03T22:56:54.060691",
     "status": "completed"
    },
    "tags": []
   },
   "source": [
    "# 10. Conclusion\n",
    "\n",
    "    In conclusion, the implementation of LoRA fine-tuning on the Gemma model, based on Kaggle, Python & Data Science QnA Datasets, has proven to be instrumental in creating a highly effective model for the Kaggle Assistant. \n",
    "\n",
    "    By leveraging LoRA, we were able to enhance the model's interpretability and performance, allowing it to provide more accurate recommendations and insights to users navigating Kaggle challenges. This optimization process not only improves the user experience on the Kaggle platform but also reinforces the Gemma model's utility as a valuable resource for data scientists and enthusiasts engaged in competitive data analysis. \n",
    "\n",
    "    Moving forward, continued refinement and adaptation of the Gemma model through techniques such as LoRA fine-tuning will be essential to ensure its continued effectiveness in assisting Kaggle users in their data science endeavors."
   ]
  },
  {
   "cell_type": "markdown",
   "id": "1f7fa16d",
   "metadata": {
    "papermill": {
     "duration": 1.841207,
     "end_time": "2024-04-03T22:56:59.568938",
     "exception": false,
     "start_time": "2024-04-03T22:56:57.727731",
     "status": "completed"
    },
    "tags": []
   },
   "source": [
    "# 11. Acknowledgements\n",
    "\n",
    "1. Google Gemma model: https://www.kaggle.com/models/google/gemma\n",
    "2. Chauhan, N. & Mooney, P. (2024). Fine-tune Gemma models in Keras using LoRA. Kaggle Notebooks. Retrieved from https://www.kaggle.com/code/nilaychauhan/fine-tune-gemma-models-in-keras-using-lora \n",
    "3. Google – AI Assistants for Data Tasks with Gemma. Kaggle Competitions. Source: https://www.kaggle.com/competitions/data-assistants-with-gemma\n",
    "4. @MARÍLIA PRATA - MBPP Python Problems jsonl - Kaggle Datasets. Source: https://www.kaggle.com/datasets/mpwolke/mbppjsonl\n",
    "5. @NIKHIL - Data Science questions and answers - Kaggle Datasets. Source: https://www.kaggle.com/datasets/nvnikhil0001/data-science-questions-and-answers\n",
    "6. @SIMARPREET SINGH - Gemma for Data Science and Python - Kaggle Notebooks. Source: https://www.kaggle.com/code/cybersimar08/gemma-for-data-science-and-python\n",
    "7. Google DeepMind (2024). Gemma: Open Models Based on Gemini Research and Technology. Retrieved from https://storage.googleapis.com/deepmind-media/gemma/gemma-report.pdf\n",
    "8. (Me) Stackoverflow - Stackexchange API v2.3 - https://www.kaggle.com/code/armanzhalgasbayev/kaggle-stackoverflow-parser\n",
    "9. (Me) Full Kaggle QnA from Stackoverflow - https://www.kaggle.com/datasets/armanzhalgasbayev/full-kaggle-qna-from-stackoverflow"
   ]
  },
  {
   "cell_type": "markdown",
   "id": "28eec23c",
   "metadata": {
    "papermill": {
     "duration": 1.82599,
     "end_time": "2024-04-03T22:57:03.258494",
     "exception": false,
     "start_time": "2024-04-03T22:57:01.432504",
     "status": "completed"
    },
    "tags": []
   },
   "source": [
    "# The End! \n",
    "\n",
    "#### `If you have any questions, you can ask them in the discussion section of this notebook, I will respond within 12 hours.`\n",
    "\n",
    "    \"Google – AI Assistants for Data Tasks with Gemma\" Competition, 2024.\n",
    "    \n",
    "    Author: Arman Zhalgasbayev | Kaggle Expert (10 march, 2024)"
   ]
  }
 ],
 "metadata": {
  "accelerator": "GPU",
  "colab": {
   "gpuType": "T4",
   "provenance": []
  },
  "kaggle": {
   "accelerator": "gpu",
   "dataSources": [
    {
     "databundleVersionId": 7669720,
     "sourceId": 64148,
     "sourceType": "competition"
    },
    {
     "datasetId": 4102922,
     "sourceId": 7114700,
     "sourceType": "datasetVersion"
    },
    {
     "datasetId": 4530916,
     "sourceId": 7749972,
     "sourceType": "datasetVersion"
    },
    {
     "datasetId": 4557365,
     "sourceId": 7786401,
     "sourceType": "datasetVersion"
    },
    {
     "modelInstanceId": 5171,
     "sourceId": 10260,
     "sourceType": "modelInstanceVersion"
    },
    {
     "modelInstanceId": 5171,
     "sourceId": 11371,
     "sourceType": "modelInstanceVersion"
    }
   ],
   "isGpuEnabled": true,
   "isInternetEnabled": true,
   "language": "python",
   "sourceType": "notebook"
  },
  "kernelspec": {
   "display_name": "Python 3",
   "language": "python",
   "name": "python3"
  },
  "language_info": {
   "codemirror_mode": {
    "name": "ipython",
    "version": 3
   },
   "file_extension": ".py",
   "mimetype": "text/x-python",
   "name": "python",
   "nbconvert_exporter": "python",
   "pygments_lexer": "ipython3",
   "version": "3.10.13"
  },
  "papermill": {
   "default_parameters": {},
   "duration": 7688.713404,
   "end_time": "2024-04-03T22:57:08.628198",
   "environment_variables": {},
   "exception": null,
   "input_path": "__notebook__.ipynb",
   "output_path": "__notebook__.ipynb",
   "parameters": {},
   "start_time": "2024-04-03T20:48:59.914794",
   "version": "2.5.0"
  }
 },
 "nbformat": 4,
 "nbformat_minor": 5
}
