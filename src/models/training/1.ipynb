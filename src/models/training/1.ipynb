{
 "cells": [
  {
   "cell_type": "code",
   "execution_count": null,
   "metadata": {
    "vscode": {
     "languageId": "plaintext"
    }
   },
   "outputs": [],
   "source": [
    "import torch\n",
    "from transformers import (\n",
    "    AutoModelForCausalLM,\n",
    "    AutoTokenizer,\n",
    "    TrainingArguments,\n",
    "    Trainer,\n",
    "    DataCollatorForLanguageModeling,\n",
    "    TrainerCallback,\n",
    "    BitsAndBytesConfig,\n",
    ")\n",
    "from peft import LoraConfig, get_peft_model, prepare_model_for_kbit_training\n",
    "from datasets import Dataset\n",
    "import json\n",
    "import logging\n",
    "from datetime import datetime\n",
    "import os\n",
    "import numpy as np\n",
    "import warnings\n",
    "import pandas as pd\n",
    "import matplotlib.pyplot as plt\n",
    "from pathlib import Path\n",
    "from src.utils.config import get_api_keys\n",
    "import psutil\n",
    "import gc\n",
    "\n",
    "# Global Setting\n",
    "DIALOGUE_JSON_PATH = \"data/dialogue/processed/kaggle_model.json\"  \n",
    "MAX_SEQUENCE_LENGTH = 512\n",
    "TOKENIZE_MAX_LENGTH = 512  # 追加: トークン化時の最大長\n",
    "\n",
    "# ディレクトリ設定\n",
    "BASE_OUTPUT_DIR = \"models/kaggle_model_ver2\"  \n",
    "MODEL_OUTPUT_DIR = f\"{BASE_OUTPUT_DIR}/model\"\n",
    "LOG_OUTPUT_DIR = f\"{BASE_OUTPUT_DIR}/logs\" \n",
    "\n",
    "# ディレクトリの作成\n",
    "for dir_path in [BASE_OUTPUT_DIR, MODEL_OUTPUT_DIR, LOG_OUTPUT_DIR]:\n",
    "    os.makedirs(dir_path, exist_ok=True)\n",
    "\n",
    "# ロギング設定\n",
    "logging.basicConfig(\n",
    "    level=logging.INFO,\n",
    "    format='%(asctime)s - %(levelname)s - %(message)s',\n",
    "    handlers=[\n",
    "        logging.FileHandler(os.path.join(LOG_OUTPUT_DIR, f'training_log_{datetime.now().strftime(\"%Y%m%d_%H%M%S\")}.log')),\n",
    "        logging.StreamHandler()\n",
    "    ]\n",
    ")\n",
    "\n",
    "\n",
    "# Initial logging messages to verify logging is working\n",
    "logging.info(\"Training script started\")\n",
    "logging.info(f\"Using dialogue file: {DIALOGUE_JSON_PATH}\")\n",
    "logging.info(f\"Max sequence length: {MAX_SEQUENCE_LENGTH}\")\n",
    "logging.info(f\"Output directory: {BASE_OUTPUT_DIR}\")\n",
    "\n",
    "# Environment variables and warning settings\n",
    "os.environ[\"PYTORCH_CUDA_ALLOC_CONF\"] = \"expandable_segments:True\"\n",
    "warnings.filterwarnings(\"ignore\", category=FutureWarning)\n",
    "\n",
    "# API keys\n",
    "api_keys = get_api_keys()\n",
    "os.environ[\"HUGGINGFACE_TOKEN\"] = api_keys['huggingface_api_key']"
   ]
  }
 ],
 "metadata": {
  "language_info": {
   "name": "python"
  }
 },
 "nbformat": 4,
 "nbformat_minor": 2
}
